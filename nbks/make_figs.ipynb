{
 "cells": [
  {
   "cell_type": "markdown",
   "metadata": {},
   "source": [
    "# Todo\n",
    "\n",
    "## Figure 1  *make fig*\n",
    "\n",
    "Properties of the statistical measures.\n",
    "\n",
    "- [X]  TOE LRT not $\\chi^2$\n",
    "- [X] $\\nabla$ sensitive to alignment length, $\\delta_{\\nabla}$ fixes that\n",
    "- [X] $\\delta_{\\nabla}$ relates to non-stationary, it is proportional to $JSD$"
   ]
  },
  {
   "cell_type": "code",
   "execution_count": 1,
   "metadata": {
    "is_executing": true
   },
   "outputs": [],
   "source": [
    "from mdeq_analysis.plot import tabulate, mixed, util as plot_util\n",
    "from project_paths import FIG_DIR, TABLE_DIR, RESULT_DIR, DATA_DIR\n",
    "\n",
    "write_pdf = plot_util.pdf_writer()"
   ]
  },
  {
   "cell_type": "code",
   "execution_count": 2,
   "metadata": {},
   "outputs": [],
   "source": [
    "pval_paths = list((RESULT_DIR / \"micro/toe/fg-GSN-toe/\").glob(\"*hi_hi*.tsv\"))\n",
    "nabla_path = (\n",
    "    RESULT_DIR / \"micro/convergence/toe-filtered-selected-convergence.sqlitedb\"\n",
    ")\n",
    "align_path = DATA_DIR / \"micro/filtered-selected.sqlitedb\"\n",
    "conv_paths = list((RESULT_DIR / \"micro/convergence/fg-GSN-toe/\").glob(\"*hi_hi*.sqlitedb\"))\n",
    "\n",
    "fig = mixed.make_mixed_properties(\n",
    "    pval_paths=pval_paths,\n",
    "    align_path=align_path,\n",
    "    nabla_path=nabla_path,\n",
    "    conv_paths=conv_paths,\n",
    ")\n",
    "# fig.show()\n",
    "write_pdf(fig, FIG_DIR / \"properties.pdf\")"
   ]
  },
  {
   "cell_type": "markdown",
   "metadata": {
    "collapsed": false
   },
   "source": [
    "## Figure 2 *make fig*\n",
    "\n",
    "Evidence for systematically elevated mutation disequilibrium in *Drosophila melanogaster* compared to *Drosophila simulans*\n",
    "\n",
    "- [ X ] Smile plots (Dmel, Dsim)\n",
    "- [ ] $\\delta_{\\nabla}$ genomic plots, or histograms (autosome, X)"
   ]
  },
  {
   "cell_type": "code",
   "execution_count": 3,
   "metadata": {
    "collapsed": false
   },
   "outputs": [],
   "source": [
    "drosophila = mixed.mixed_smiled_hist(ape=False)\n",
    "# drosophila.show()\n",
    "write_pdf(drosophila, FIG_DIR / \"drosophila-smile-hist-plots.pdf\")"
   ]
  },
  {
   "cell_type": "markdown",
   "metadata": {
    "collapsed": false
   },
   "source": [
    "## Figure 3 *make fig*\n",
    "\n",
    "Majority of sampled genomic segments show mutation disequilibrium\n",
    "\n",
    "- [ X ] Smile plots (intron, cds)\n",
    "- [ ] $\\delta_{\\nabla}$ histogram between intron/cds"
   ]
  },
  {
   "cell_type": "code",
   "execution_count": 4,
   "metadata": {
    "collapsed": false
   },
   "outputs": [],
   "source": [
    "ape = mixed.mixed_smiled_hist(ape=True)\n",
    "# ape.show()\n",
    "write_pdf(ape, FIG_DIR / \"ape-smile-hist-plots.pdf\")"
   ]
  },
  {
   "cell_type": "markdown",
   "metadata": {
    "collapsed": false
   },
   "source": [
    "## Table 1\n",
    "\n",
    "PAR regions show greater mutation disequilibrium\n",
    "\n",
    "- [ X ] produce stats"
   ]
  },
  {
   "cell_type": "code",
   "execution_count": null,
   "metadata": {},
   "outputs": [],
   "source": [
    "table = tabulate.fxy_table(DATA_DIR / \"fxy\", RESULT_DIR / \"fxy\")\n",
    "# table"
   ]
  },
  {
   "cell_type": "code",
   "execution_count": null,
   "metadata": {
    "collapsed": false
   },
   "outputs": [],
   "source": [
    "table.title = r\"The magnitude of mutation disequilibrium is higher in the region of the \\emph{Fxy} gene within the PAR.\"\n",
    "table.legend = r\"Intron rank 2 remains X-linked while ranks 4-6 are within the PAR. $\\hat{p}$-value and $\\hat\\delta_{\\nabla}$ are from a TOE with \\emph{M. musculus} was treated as the foreground edge, $\\hat\\sigma_\\nabla$ is the estimated standard deviation of $\\nabla$ from the null distribution, length is from the sampled \\emph{M. musculus} intron sequence.\"\n",
    "\n",
    "latex = table.to_latex(label=\"tab:fxy\")\n",
    "outfile = TABLE_DIR / \"fxy.tex\"\n",
    "outfile.write_text(latex)"
   ]
  }
 ],
 "metadata": {
  "interpreter": {
   "hash": "cbba2c586c8ece813a5f7aa9f6ff7744ff5b0d63355ab49e33feef8cb8cb0591"
  },
  "kernelspec": {
   "display_name": "Python 3.10.0 ('c310dev')",
   "language": "python",
   "name": "python3"
  },
  "language_info": {
   "codemirror_mode": {
    "name": "ipython",
    "version": 3
   },
   "file_extension": ".py",
   "mimetype": "text/x-python",
   "name": "python",
   "nbconvert_exporter": "python",
   "pygments_lexer": "ipython3",
   "version": "3.11.10"
  },
  "orig_nbformat": 4
 },
 "nbformat": 4,
 "nbformat_minor": 2
}
