{
 "cells": [
  {
   "cell_type": "markdown",
   "metadata": {},
   "source": [
    "# Todo\n",
    "\n",
    "## Figure 1  *make fig*\n",
    "\n",
    "Properties of the statistical measures.\n",
    "\n",
    "- [X]  TOE LRT not $\\chi^2$\n",
    "- [X] $\\nabla$ sensitive to alignment length, $\\delta_{\\nabla}$ fixes that\n",
    "- [X] $\\delta_{\\nabla}$ relates to non-stationary, it is proportional to $JSD$"
   ]
  },
  {
   "cell_type": "code",
   "execution_count": 1,
   "metadata": {},
   "outputs": [],
   "source": [
    "from pathlib import Path\n",
    "from mdeq_analysis.plot import quantiles, nabla, tabulate, mixed\n",
    "\n",
    "OUTPUT_ROOT = Path(\"~/repos/MutationDiseqMS\").expanduser()\n",
    "FIG_DIR = OUTPUT_ROOT / \"figs\"\n",
    "TABLE_DIR = OUTPUT_ROOT / \"tables\"\n",
    "FIG_DIR.mkdir(parents=True, exist_ok=True)\n",
    "TABLE_DIR.mkdir(parents=True, exist_ok=True)"
   ]
  },
  {
   "cell_type": "code",
   "execution_count": null,
   "metadata": {
    "pycharm": {
     "is_executing": true
    }
   },
   "outputs": [],
   "source": [
    "rootdir = Path(\"/Users/gavin/repos/Honours2021/Kath/MutationDiseqAnalysis\")\n",
    "pval_paths=list(Path(\"../results/micro/toe/fg-GSN-toe/\").glob(\"*hi_hi*.tsv\"))\n",
    "nabla_path = (\n",
    "    rootdir / \"results/micro/convergence/toe-filtered-selected-convergence.sqlitedb\"\n",
    ")\n",
    "align_path = rootdir / \"data/micro/filtered-selected.sqlitedb\"\n",
    "conv_paths = list(Path(\"../results/micro/convergence/fg-GSN-toe/\").glob(\"*hi_hi*.sqlitedb\"))\n",
    "fig = mixed.make_mixed_properties(pval_paths=pval_paths, align_path=align_path, nabla_path=nabla_path, conv_paths=conv_paths)\n",
    "fig.show()\n",
    "fig.write_image(FIG_DIR / \"properties.pdf\")"
   ]
  },
  {
   "cell_type": "markdown",
   "source": [
    "## Figure 2 *make fig*\n",
    "\n",
    "Evidence for systematically elevated mutation disequilibrium in *Drosophila melanogaster* compared to *Drosophila simulans*\n",
    "\n",
    "- [ X ] Smile plots (Dmel, Dsim)\n",
    "- [ ] $\\delta_{\\nabla}$ genomic plots, or histograms (autosome, X)"
   ],
   "metadata": {
    "collapsed": false
   }
  },
  {
   "cell_type": "code",
   "execution_count": null,
   "outputs": [],
   "source": [
    "drosophila= mixed.mixed_smiled_hist(ape=False)\n",
    "drosophila.show()\n",
    "drosophila.write_image(FIG_DIR / \"drosophila-smile-hist-plots.pdf\")"
   ],
   "metadata": {
    "collapsed": false,
    "pycharm": {
     "is_executing": true
    }
   }
  },
  {
   "cell_type": "markdown",
   "source": [
    "## Figure 3 *make fig*\n",
    "\n",
    "Majority of sampled genomic segments show mutation disequilibrium\n",
    "\n",
    "- [ X ] Smile plots (intron, cds)\n",
    "- [ ] $\\delta_{\\nabla}$ histogram between intron/cds"
   ],
   "metadata": {
    "collapsed": false
   }
  },
  {
   "cell_type": "code",
   "execution_count": null,
   "outputs": [],
   "source": [
    "ape = mixed.mixed_smiled_hist(ape=True)\n",
    "ape.show()\n",
    "ape.write_image(FIG_DIR / \"ape-smile-hist-plots.pdf\")"
   ],
   "metadata": {
    "collapsed": false,
    "pycharm": {
     "is_executing": true
    }
   }
  },
  {
   "cell_type": "markdown",
   "source": [
    "## Table 1\n",
    "\n",
    "PAR regions show greater mutation disequilibrium\n",
    "\n",
    "- [ X ] produce stats"
   ],
   "metadata": {
    "collapsed": false
   }
  },
  {
   "cell_type": "code",
   "execution_count": null,
   "metadata": {
    "pycharm": {
     "is_executing": true
    }
   },
   "outputs": [],
   "source": [
    "result_dir = Path(\"/Users/gavin/repos/Honours2021/Kath/MutationDiseqAnalysis/results/fxy\")\n",
    "data_dir = Path(\"/Users/gavin/repos/Honours2021/Kath/MutationDiseqAnalysis/data/fxy\")\n",
    "table = tabulate.fxy_table(data_dir, result_dir)"
   ]
  },
  {
   "cell_type": "code",
   "execution_count": null,
   "outputs": [],
   "source": [
    "table.title=r\"The magnitude of mutation disequilibrium is higher in the region of the \\emph{Fxy} gene within the PAR.\"\n",
    "table.legend=r\"TOE $\\hat{p}$-value and $\\hat\\delta_{\\nabla}$ for the first six 5'- introns of \\emph{M. musculus}. Column title is the \\emph{M. musculus} intron rank. Data is from alignments of \\emph{M. musculus}, \\emph{M. spretus}, and \\emph{R. norvegicus}. \\emph{M. musculus} was treated as the foreground edge in model fitting. $\\hat\\sigma_\\nabla$ is the estimated standard deviation of $\\nabla$ from the null distribution. The length of each \\emph{M. musculus} intron is presented.\"\n",
    "\n",
    "latex = table.to_latex(label=\"tab:fxy\")\n",
    "outfile = TABLE_DIR / \"fxy.tex\"\n",
    "outfile.write_text(latex)"
   ],
   "metadata": {
    "collapsed": false,
    "pycharm": {
     "is_executing": true
    }
   }
  }
 ],
 "metadata": {
  "interpreter": {
   "hash": "cbba2c586c8ece813a5f7aa9f6ff7744ff5b0d63355ab49e33feef8cb8cb0591"
  },
  "kernelspec": {
   "display_name": "Python 3.10.0 ('c310dev')",
   "language": "python",
   "name": "python3"
  },
  "language_info": {
   "codemirror_mode": {
    "name": "ipython",
    "version": 3
   },
   "file_extension": ".py",
   "mimetype": "text/x-python",
   "name": "python",
   "nbconvert_exporter": "python",
   "pygments_lexer": "ipython3",
   "version": "3.10.0"
  },
  "orig_nbformat": 4
 },
 "nbformat": 4,
 "nbformat_minor": 2
}
