{
 "cells": [
  {
   "cell_type": "markdown",
   "metadata": {},
   "source": [
    "# Consistency of p-values with theoretical expectations\n",
    "\n",
    "We evaluated whether $p$-values obtained from the $\\chi^2_{df}$ distribution were uniformly distributed when the null hypothesis was true."
   ]
  },
  {
   "cell_type": "markdown",
   "metadata": {},
   "source": [
    "## Test of existence of substitution equilibrium\n",
    "\n",
    "In this case, very clearly not."
   ]
  },
  {
   "cell_type": "code",
   "execution_count": 1,
   "metadata": {},
   "outputs": [],
   "source": [
    "import project_paths\n",
    "from mdeq_analysis.plot import quantiles as pq\n",
    "\n",
    "OUTPUT_ROOT = project_paths.OUTPUT_ROOT\n",
    "FIG_DIR = project_paths.SUPP_FIG_DIR\n",
    "RESULT_DIR = project_paths.RESULT_DIR\n",
    "FIG_DIR.mkdir(parents=True, exist_ok=True)"
   ]
  },
  {
   "cell_type": "markdown",
   "metadata": {},
   "source": [
    "Group by `jsd_entropy`."
   ]
  },
  {
   "cell_type": "code",
   "execution_count": null,
   "metadata": {},
   "outputs": [],
   "source": [
    "paths = list((RESULT_DIR / \"micro/toe/fg-GSN-toe/\").glob(\"*.tsv\"))\n",
    "fig = pq.get_quantile_fig(paths, \"chisq_pval\", alpha=0.8)\n",
    "# fig.show()\n",
    "project_paths.write_pdf(fig, FIG_DIR / \"quantiles-toe.pdf\")"
   ]
  },
  {
   "cell_type": "markdown",
   "metadata": {},
   "source": [
    "## Squartini and Arndt chi squared test "
   ]
  },
  {
   "cell_type": "code",
   "execution_count": 2,
   "metadata": {},
   "outputs": [],
   "source": [
    "paths = list((RESULT_DIR / \"micro/squartini-arndt/\").glob(\"*.tsv\"))\n",
    "fig = pq.get_quantile_fig(paths, \"chisq_pval\", alpha=0.8)\n",
    "# fig.show()\n",
    "project_paths.write_pdf(fig, FIG_DIR / \"quantiles-squartini-arndt.pdf\")"
   ]
  }
 ],
 "metadata": {
  "kernelspec": {
   "display_name": "mdeq",
   "language": "python",
   "name": "python3"
  },
  "language_info": {
   "codemirror_mode": {
    "name": "ipython",
    "version": 3
   },
   "file_extension": ".py",
   "mimetype": "text/x-python",
   "name": "python",
   "nbconvert_exporter": "python",
   "pygments_lexer": "ipython3",
   "version": "3.11.13"
  },
  "orig_nbformat": 4
 },
 "nbformat": 4,
 "nbformat_minor": 2
}
