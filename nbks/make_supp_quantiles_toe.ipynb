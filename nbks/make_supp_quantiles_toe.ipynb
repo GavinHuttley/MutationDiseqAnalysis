{
 "cells": [
  {
   "cell_type": "markdown",
   "metadata": {},
   "source": [
    "# Consistency of p-values with theoretical expectations\n",
    "\n",
    "We evaluated whether $p$-values obtained from the $\\chi^2_{df}$ distribution were uniformly distributed when the null hypothesis was true."
   ]
  },
  {
   "cell_type": "markdown",
   "metadata": {},
   "source": [
    "## Test of existence of substitution equilibrium\n",
    "\n",
    "In this case, very clearly not."
   ]
  },
  {
   "cell_type": "code",
   "execution_count": null,
   "metadata": {},
   "outputs": [],
   "source": [
    "from pathlib import Path\n",
    "\n",
    "from mdeq_analysis.plot import quantiles as pq\n",
    "\n",
    "OUTPUT_ROOT = Path(\"~/repos/MutationDiseqMS\").expanduser()\n",
    "FIG_DIR = OUTPUT_ROOT / \"figs_supp\"\n",
    "FIG_DIR.mkdir(parents=True, exist_ok=True)"
   ]
  },
  {
   "cell_type": "markdown",
   "metadata": {},
   "source": [
    "Group by `jsd_entropy`."
   ]
  },
  {
   "cell_type": "code",
   "execution_count": null,
   "metadata": {},
   "outputs": [],
   "source": [
    "paths = list(Path(\"../results/micro/toe/fg-GSN-toe/\").glob(\"*.tsv\"))\n",
    "fig = pq.get_quantile_fig(paths, \"chisq_pval\", alpha=0.8)\n",
    "# fig.show()\n",
    "# fig.write_image(FIG_DIR / \"quantiles-toe.pdf\")"
   ]
  },
  {
   "cell_type": "markdown",
   "metadata": {},
   "source": [
    "## Squartini and Arndt chi squared test "
   ]
  },
  {
   "cell_type": "code",
   "execution_count": null,
   "metadata": {},
   "outputs": [],
   "source": [
    "paths = list(Path(\"../results/micro/chi2/\").glob(\"*.tsv\"))\n",
    "fig = pq.get_quantile_fig(paths, \"chisq_pval\", alpha=0.8)\n",
    "# fig.show()\n",
    "# fig.write_image(FIG_DIR / \"quantiles-chi2.pdf\")"
   ]
  }
 ],
 "metadata": {
  "kernelspec": {
   "display_name": "mdeq_analysis_env",
   "language": "python",
   "name": "python3"
  },
  "language_info": {
   "codemirror_mode": {
    "name": "ipython",
    "version": 3
   },
   "file_extension": ".py",
   "mimetype": "text/x-python",
   "name": "python",
   "nbconvert_exporter": "python",
   "pygments_lexer": "ipython3",
   "version": "3.10.18"
  },
  "orig_nbformat": 4
 },
 "nbformat": 4,
 "nbformat_minor": 2
}
