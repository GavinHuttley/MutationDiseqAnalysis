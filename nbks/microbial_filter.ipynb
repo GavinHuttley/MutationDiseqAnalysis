{
 "cells": [
  {
   "cell_type": "markdown",
   "metadata": {},
   "source": [
    "# Sampling the microbial data\n",
    "\n",
    "Filter the alignments to remove any gap or non-nucleotide positions."
   ]
  },
  {
   "cell_type": "code",
   "execution_count": 1,
   "metadata": {},
   "outputs": [],
   "source": [
    "from cogent3.app import get_app, open_data_store"
   ]
  },
  {
   "cell_type": "code",
   "execution_count": 2,
   "metadata": {},
   "outputs": [
    {
     "name": "stdout",
     "output_type": "stream",
     "text": [
      "9854x member DataStoreDirectory(source='/Users/gavin/repos/Honours2021/Kath/MutationDiseqAnalysis/nbks/../data/raw/microbial/nexus', members=[DataMember(data_store=/Users/gavin/repos/Honours2021/Kath/MutationDiseqAnalysis/nbks/../data/raw/microbial/nexus, unique_id=142466_202620_506803.nexus.gz), DataMember(data_store=/Users/gavin/repos/Honours2021/Kath/MutationDiseqAnalysis/nbks/../data/raw/microbial/nexus, unique_id=179483_66762_200580.nexus.gz)]...)\n"
     ]
    }
   ],
   "source": [
    "path = \"../data/raw/microbial/nexus\"\n",
    "dstore = open_data_store(path, suffix=\"nexus.gz\")\n",
    "print(dstore)"
   ]
  },
  {
   "cell_type": "code",
   "execution_count": 3,
   "metadata": {},
   "outputs": [],
   "source": [
    "loader = get_app(\"load_aligned\", moltype=\"dna\", format=\"nexus\")\n",
    "just_nucs = get_app(\"omit_degenerates\", moltype=\"dna\", motif_length=1, gap_is_degen=True)\n",
    "output = open_data_store(\"../data/raw/microbial/filtered-new.sqlitedb\", mode=\"w\")\n",
    "writer = get_app(\"write_db\", output)"
   ]
  },
  {
   "cell_type": "code",
   "execution_count": 4,
   "metadata": {},
   "outputs": [
    {
     "data": {
      "text/plain": "   0%|          |00:00<?",
      "application/vnd.jupyter.widget-view+json": {
       "version_major": 2,
       "version_minor": 0,
       "model_id": "147448aa5d9d446ba87373b2c51e5094"
      }
     },
     "metadata": {},
     "output_type": "display_data"
    }
   ],
   "source": [
    "app = loader + just_nucs + writer\n",
    "output = app.apply_to(dstore, cleanup=True, show_progress=True)"
   ]
  },
  {
   "cell_type": "code",
   "execution_count": 5,
   "metadata": {},
   "outputs": [
    {
     "data": {
      "text/plain": "Locked to the current process.\n=======================\nrecord type      number\n-----------------------\ncompleted          9854\nnot_completed         0\nlogs                  1\n-----------------------\n\n3 rows x 2 columns",
      "text/html": "\n<div class=\"c3table\">\n\n<style>\n.c3table table {margin: 10px 0;}\n.c3table tr:last-child {border-bottom: 1px solid #000;} \n.c3table tr > th {text-align: left; padding: 0 5px;}\n.c3table tr > td {text-align: left; padding: 5px;}\n.c3table tr:nth-child(even) {background: #f7f7f7 !important;}\n.c3table .ellipsis {background: rgba(0, 0, 0, .01);}\n.c3table .index {background: rgba(161, 195, 209, 0.0); margin: 10px; font-weight: 600;}\n.c3table .head_cell {background: rgba(161, 195, 209, 0.75); font-weight: bold; text-align: center;}\n.c3table caption {color: rgb(250, 250, 250); background: rgba(30, 140, 200, 1); padding: 3px; white-space: nowrap; caption-side: top;}\n.c3table .cell_title {font-weight: bold;}\n.c3col_left { text-align: left !important; display: block;}\n.c3col_right { text-align: right !important; display: block;}\n.c3col_center { text-align: center !important; display: block;}\n</style>\n\n<table>\n\n<caption>\n<span class=\"cell_title\">Locked to the current process.</span>\n</caption>\n<thead class=\"head_cell\">\n<th>record type</th><th>number</th>\n</thead>\n<tbody>\n<tr><td><span class=\"c3col_left\">completed</span></td><td><span class=\"c3col_right\">9854</span></td></tr>\n<tr><td><span class=\"c3col_left\">not_completed</span></td><td><span class=\"c3col_right\">0</span></td></tr>\n<tr><td><span class=\"c3col_left\">logs</span></td><td><span class=\"c3col_right\">1</span></td></tr>\n</tbody>\n</table>\n<p>\n3 rows x 2 columns</p>\n</div>"
     },
     "execution_count": 5,
     "metadata": {},
     "output_type": "execute_result"
    }
   ],
   "source": [
    "output.describe"
   ]
  },
  {
   "cell_type": "code",
   "execution_count": 6,
   "metadata": {},
   "outputs": [],
   "source": [
    "output.close()"
   ]
  }
 ],
 "metadata": {
  "interpreter": {
   "hash": "cbba2c586c8ece813a5f7aa9f6ff7744ff5b0d63355ab49e33feef8cb8cb0591"
  },
  "kernelspec": {
   "display_name": "Python 3.10.0 ('c310dev')",
   "language": "python",
   "name": "python3"
  },
  "language_info": {
   "codemirror_mode": {
    "name": "ipython",
    "version": 3
   },
   "file_extension": ".py",
   "mimetype": "text/x-python",
   "name": "python",
   "nbconvert_exporter": "python",
   "pygments_lexer": "ipython3",
   "version": "3.10.0"
  },
  "orig_nbformat": 4
 },
 "nbformat": 4,
 "nbformat_minor": 2
}
