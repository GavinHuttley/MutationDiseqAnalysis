{
 "cells": [
  {
   "cell_type": "markdown",
   "metadata": {},
   "source": [
    "# Sampling the microbial data\n",
    "\n",
    "Filter the alignments to remove any gap or non-nucleotide positions."
   ]
  },
  {
   "cell_type": "code",
   "execution_count": null,
   "metadata": {},
   "outputs": [],
   "source": [
    "from cogent3.app import get_app, open_data_store\n",
    "from project_paths import DATA_DIR"
   ]
  },
  {
   "cell_type": "code",
   "execution_count": null,
   "metadata": {},
   "outputs": [],
   "source": [
    "path = DATA_DIR / \"raw/microbial/nexus\"\n",
    "dstore = open_data_store(path, suffix=\"nexus.gz\")\n",
    "print(dstore)"
   ]
  },
  {
   "cell_type": "code",
   "execution_count": null,
   "metadata": {},
   "outputs": [],
   "source": [
    "loader = get_app(\"load_aligned\", moltype=\"dna\", format_name=\"nexus\")\n",
    "just_nucs = get_app(\n",
    "    \"omit_degenerates\", moltype=\"dna\", motif_length=1, gap_is_degen=True\n",
    ")\n",
    "output = open_data_store(DATA_DIR / \"raw/microbial/filtered.sqlitedb\", mode=\"w\")\n",
    "writer = get_app(\"write_db\", output)"
   ]
  },
  {
   "cell_type": "code",
   "execution_count": null,
   "metadata": {},
   "outputs": [],
   "source": [
    "app = loader + just_nucs + writer\n",
    "output = app.apply_to(dstore, cleanup=True, show_progress=True)"
   ]
  },
  {
   "cell_type": "code",
   "execution_count": null,
   "metadata": {},
   "outputs": [],
   "source": [
    "output.describe"
   ]
  },
  {
   "cell_type": "code",
   "execution_count": null,
   "metadata": {},
   "outputs": [],
   "source": [
    "output.close()"
   ]
  }
 ],
 "metadata": {
  "kernelspec": {
   "display_name": "mdeq",
   "language": "python",
   "name": "python3"
  },
  "language_info": {
   "codemirror_mode": {
    "name": "ipython",
    "version": 3
   },
   "file_extension": ".py",
   "mimetype": "text/x-python",
   "name": "python",
   "nbconvert_exporter": "python",
   "pygments_lexer": "ipython3",
   "version": "3.11.3"
  },
  "orig_nbformat": 4
 },
 "nbformat": 4,
 "nbformat_minor": 2
}
