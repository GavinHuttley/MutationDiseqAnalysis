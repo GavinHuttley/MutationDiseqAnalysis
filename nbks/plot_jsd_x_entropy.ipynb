{
 "cells": [
  {
   "cell_type": "markdown",
   "metadata": {},
   "source": [
    "# Selecting the seed alignments\n",
    "\n",
    "We use the results from `mdeqasis microbial-gn-stats`. This command extracts core statistics from the GN fits produced from running `mdeqasis microbial-fit-gn`. Note that `microbial-gn-stats` excludes fitted models where the maximum likelihood estimates were within machine precision of the upper/lower bound (which suggests a difficult to fit alignment)."
   ]
  },
  {
   "cell_type": "code",
   "execution_count": 1,
   "metadata": {},
   "outputs": [],
   "source": [
    "import plotly.express as px\n",
    "from cogent3 import make_table, open_data_store\n",
    "from mdeq.utils import load_from_sqldb\n",
    "from mdeq_analysis.plot import util as plot_util\n",
    "\n",
    "from project_paths import SUPP_FIG_DIR, SUPP_TABLE_DIR, DATA_DIR\n",
    "\n",
    "write_pdf = plot_util.pdf_writer()"
   ]
  },
  {
   "cell_type": "code",
   "execution_count": null,
   "metadata": {},
   "outputs": [],
   "source": [
    "path = DATA_DIR / \"raw/microbial/fit_gn-stats.sqlitedb\"\n",
    "dstore = open_data_store(path)\n",
    "print(dstore)"
   ]
  },
  {
   "cell_type": "code",
   "execution_count": null,
   "metadata": {},
   "outputs": [],
   "source": [
    "dstore.summary_logs"
   ]
  },
  {
   "cell_type": "code",
   "execution_count": 4,
   "metadata": {},
   "outputs": [],
   "source": [
    "loader = load_from_sqldb()\n",
    "records = [loader(m) for m in dstore.completed]\n",
    "header = records[0].header()\n",
    "rows = [r.to_record() for r in records]\n",
    "table = make_table(header=header, data=rows)"
   ]
  },
  {
   "cell_type": "markdown",
   "metadata": {},
   "source": [
    "We eliminate model with fits where the condition number was > 2. (Condition number is an indicator of numerical issues.)"
   ]
  },
  {
   "cell_type": "code",
   "execution_count": null,
   "metadata": {},
   "outputs": [],
   "source": [
    "table = table.filtered(lambda x: x <= 2, columns=\"cond_num\")\n",
    "table"
   ]
  },
  {
   "cell_type": "markdown",
   "metadata": {},
   "source": [
    "We selected four alignments as our seeds, corresponding to combinations of hi/lo entropy/jsd. These are referred to as \"seed\" alignments as the fits to these alignments are used to generate synthetic data for evaluating statistical measures."
   ]
  },
  {
   "cell_type": "code",
   "execution_count": 6,
   "metadata": {},
   "outputs": [],
   "source": [
    "seed_alignments = [\n",
    "    \"197113_332182_17210\",\n",
    "    \"198257_206396_13724\",\n",
    "    \"200580_114946_573911\",\n",
    "    \"758_443154_73021\",\n",
    "]\n",
    "seeds = table.filtered(lambda x: x in seed_alignments, columns=\"source\")\n",
    "not_seeds = table.filtered(lambda x: x not in seed_alignments, columns=\"source\")"
   ]
  },
  {
   "cell_type": "markdown",
   "metadata": {},
   "source": [
    "We show the position of the selected seed alignments (red markers) with respect to the full distribution (blue markers)."
   ]
  },
  {
   "cell_type": "code",
   "execution_count": 7,
   "metadata": {},
   "outputs": [],
   "source": [
    "x_label = \"jsd\"\n",
    "y_label = \"entropy\"\n",
    "nseed_plot = {\n",
    "    \"x\": not_seeds.columns[x_label],\n",
    "    \"y\": not_seeds.columns[y_label],\n",
    "    \"mode\": \"markers\",\n",
    "    \"marker_color\": \"blue\",\n",
    "}\n",
    "seed_plot = {\n",
    "    \"x\": seeds.columns[x_label],\n",
    "    \"y\": seeds.columns[y_label],\n",
    "    \"mode\": \"markers\",\n",
    "    \"marker_size\": 10,\n",
    "    \"marker_color\": \"red\",\n",
    "}\n",
    "traces = [nseed_plot, seed_plot]\n",
    "\n",
    "fig = px.scatter()\n",
    "fig.add_traces(traces)\n",
    "\n",
    "size = 700\n",
    "_ = fig.update_layout(\n",
    "    showlegend=False,\n",
    "    xaxis=dict(title=r\"$\\widehat {\\textrm{JSD}}$\"),\n",
    "    yaxis=dict(title=r\"$\\hat H(\\pi_\\infty)$\"),\n",
    "    width=size,\n",
    "    height=size,\n",
    ")"
   ]
  },
  {
   "cell_type": "markdown",
   "metadata": {},
   "source": [
    "Write the image out for inclusion in the manuscript."
   ]
  },
  {
   "cell_type": "code",
   "execution_count": 8,
   "metadata": {},
   "outputs": [],
   "source": [
    "write_pdf(fig, SUPP_FIG_DIR / \"microbial-jsd_x_entropy.pdf\")"
   ]
  },
  {
   "cell_type": "markdown",
   "metadata": {
    "collapsed": false
   },
   "source": [
    "The designations of the seed fits"
   ]
  },
  {
   "cell_type": "code",
   "execution_count": 9,
   "metadata": {
    "collapsed": false
   },
   "outputs": [],
   "source": [
    "header = [\"Identifier\", \"Entropy\", \"JSD\"]\n",
    "seeds = [\n",
    "    (r\"197113\\_332182\\_17210\", \"Hi\", \"Hi\"),\n",
    "    (r\"198257\\_206396\\_13724\", \"Hi\", \"Lo\"),\n",
    "    (r\"200580\\_114946\\_573911\", \"Lo\", \"Hi\"),\n",
    "    (r\"758\\_443154\\_73021\", \"Lo\", \"Lo\"),\n",
    "]\n",
    "\n",
    "table = make_table(\n",
    "    header=header,\n",
    "    data=seeds,\n",
    "    title=\"Selected seed fits from microbial data.\",\n",
    "    legend=\"Fits from these alignments were used for the simulation study. \"\n",
    "    \"Identifier is from the GreenGenes alignment. Entropy and JSD categories \"\n",
    "    r\"are from Figure \\ref{supfig:jsd-vs-entropy}.\",\n",
    ")\n",
    "\n",
    "table.write(\n",
    "    SUPP_TABLE_DIR / \"microbial-seed_fits.tex\",\n",
    "    label=\"suptable:seed-categories\",\n",
    "    justify=\"lll\",\n",
    ")"
   ]
  }
 ],
 "metadata": {
  "interpreter": {
   "hash": "cbba2c586c8ece813a5f7aa9f6ff7744ff5b0d63355ab49e33feef8cb8cb0591"
  },
  "kernelspec": {
   "display_name": "Python 3.10.0 ('c310dev')",
   "language": "python",
   "name": "python3"
  },
  "language_info": {
   "codemirror_mode": {
    "name": "ipython",
    "version": 3
   },
   "file_extension": ".py",
   "mimetype": "text/x-python",
   "name": "python",
   "nbconvert_exporter": "python",
   "pygments_lexer": "ipython3",
   "version": "3.11.10"
  },
  "orig_nbformat": 4
 },
 "nbformat": 4,
 "nbformat_minor": 2
}
