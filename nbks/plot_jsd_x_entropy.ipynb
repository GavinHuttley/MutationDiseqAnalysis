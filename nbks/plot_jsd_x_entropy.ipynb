{
 "cells": [
  {
   "cell_type": "markdown",
   "metadata": {},
   "source": [
    "# Selecting the seed alignments\n",
    "\n",
    "We use the results from `mdeqasis microbial-gn-stats`. This command extracts core statistics from the GN fits produced from running `mdeqasis microbial-fit-gn`. Note that `microbial-gn-stats` excludes fitted models where the maximum likelihood estimates were within machine precision of the upper/lower bound (which suggests a difficult to fit alignment)."
   ]
  },
  {
   "cell_type": "code",
   "execution_count": 1,
   "metadata": {},
   "outputs": [],
   "source": [
    "from mdeq_analysis import (\n",
    "    microbial,\n",
    ")  # isort: skip  # keep at top as this registers custom deserialiser\n",
    "from pathlib import Path\n",
    "\n",
    "OUTPUT_ROOT = Path(\"~/repos/MutationDiseqMS\").expanduser()\n",
    "fig_dir = OUTPUT_ROOT / \"figs_supp\"\n",
    "table_dir = OUTPUT_ROOT / \"tables_supp\"\n",
    "fig_dir.mkdir(parents=True, exist_ok=True)\n",
    "table_dir.mkdir(parents=True, exist_ok=True)"
   ]
  },
  {
   "cell_type": "code",
   "execution_count": 2,
   "metadata": {},
   "outputs": [],
   "source": [
    "import plotly.express as px\n",
    "from plotly.io import full_figure_for_development\n",
    "\n",
    "from cogent3 import make_table, open_data_store\n",
    "from mdeq.utils import load_from_sqldb"
   ]
  },
  {
   "cell_type": "code",
   "execution_count": 3,
   "metadata": {},
   "outputs": [
    {
     "name": "stdout",
     "output_type": "stream",
     "text": [
      "9854x member DataStoreSqlite(source='/Users/gavin/repos/Honours2021/Kath/MutationDiseqAnalysis/nbks/../data/raw/microbial/fit_gn-stats.sqlitedb', members=[DataMember(data_store=/Users/gavin/repos/Honours2021/Kath/MutationDiseqAnalysis/nbks/../data/raw/microbial/fit_gn-stats.sqlitedb, unique_id=100032_52477_200580.json), DataMember(data_store=/Users/gavin/repos/Honours2021/Kath/MutationDiseqAnalysis/nbks/../data/raw/microbial/fit_gn-stats.sqlitedb, unique_id=100193_244328_133502.json)]...)\n"
     ]
    }
   ],
   "source": [
    "path = \"../data/raw/microbial/fit_gn-stats.sqlitedb\"\n",
    "dstore = open_data_store(path)\n",
    "print(dstore)"
   ]
  },
  {
   "cell_type": "code",
   "execution_count": 4,
   "metadata": {},
   "outputs": [
    {
     "data": {
      "text/html": [
       "\n",
       "<div class=\"c3table\">\n",
       "\n",
       "<style>\n",
       ".c3table table {margin: 10px 0;}\n",
       ".c3table tr:last-child {border-bottom: 1px solid #000;} \n",
       ".c3table tr > th {text-align: left; padding: 0 5px;}\n",
       ".c3table tr > td {text-align: left; padding: 5px;}\n",
       ".c3table tr:nth-child(even) {background: #f7f7f7 !important;}\n",
       ".c3table .ellipsis {background: rgba(0, 0, 0, .01);}\n",
       ".c3table .index {background: rgba(161, 195, 209, 0.0); margin: 10px; font-weight: 600;}\n",
       ".c3table .head_cell {background: rgba(161, 195, 209, 0.75); font-weight: bold; text-align: center;}\n",
       ".c3table caption {color: rgb(250, 250, 250); background: rgba(30, 140, 200, 1); padding: 3px; white-space: nowrap; caption-side: top;}\n",
       ".c3table .cell_title {font-weight: bold;}\n",
       ".c3col_left { text-align: left !important; display: block;}\n",
       ".c3col_right { text-align: right !important; display: block;}\n",
       ".c3col_center { text-align: center !important; display: block;}\n",
       "</style>\n",
       "\n",
       "<table>\n",
       "\n",
       "<caption>\n",
       "<span class=\"cell_title\">summary of log files</span>\n",
       "</caption>\n",
       "<thead class=\"head_cell\">\n",
       "<th>time</th><th>name</th><th>python version</th><th>who</th><th>command</th><th>composable</th>\n",
       "</thead>\n",
       "<tbody>\n",
       "<tr><td><span class=\"c3col_left\">2022-05-07 12:04:48</span></td><td><span class=\"c3col_left\">logs/sql_loader-user_function-user_function-sql_writer-f502e5e2.log</span></td><td><span class=\"c3col_left\">3.10.0</span></td><td><span class=\"c3col_left\">gavin</span></td><td><span class=\"c3col_left\">/Users/gavin/opt/miniconda3/envs/c310dev/bin/mdeqasis microbial-gn-stats -i data/raw/microbial/fit_gn.sqlitedb -o data/raw/microbial/fit_gn-stats.sqlitedb -O -vv -p</span></td><td><span class=\"c3col_left\">sql_loader(type='output') + user_function(name='mles_within_bounds',module='mdeq.model') + user_function(name='compute_stats',module='mdeq_analysis.microbial') + sql_writer(type='output',args=(PosixPath('data/raw/microbial/fit_gn-stats.sqlitedb'),), suffix='json',kwargs={'create': True, 'if_exists': 'overwrite'})</span></td></tr>\n",
       "<tr><td><span class=\"c3col_left\">2023-01-28 11:05:13</span></td><td><span class=\"c3col_left\">logs/convert_db_to_new_sqlitedb-e887e843.log</span></td><td><span class=\"c3col_left\">3.10.0</span></td><td><span class=\"c3col_left\">gavin</span></td><td><span class=\"c3col_left\">/Users/gavin/opt/miniconda3/envs/c310dev/bin/mdeq db-upgrade data-old/* -od data -O</span></td><td><span class=\"c3col_left\"></span></td></tr>\n",
       "</tbody>\n",
       "</table>\n",
       "<p>\n",
       "2 rows x 6 columns</p>\n",
       "</div>"
      ],
      "text/plain": [
       "summary of log files\n",
       "===========================================================================================================================================================================================================================================================================================================================================================================================================================================================================================================================================================================================================================\n",
       "time                   name                                                                   python version    who      command                                                                                                                                                                 composable                                                                                                                                                                                                                                                                                                                \n",
       "---------------------------------------------------------------------------------------------------------------------------------------------------------------------------------------------------------------------------------------------------------------------------------------------------------------------------------------------------------------------------------------------------------------------------------------------------------------------------------------------------------------------------------------------------------------------------------------------------------------------------\n",
       "2022-05-07 12:04:48    logs/sql_loader-user_function-user_function-sql_writer-f502e5e2.log    3.10.0            gavin    /Users/gavin/opt/miniconda3/envs/c310dev/bin/mdeqasis microbial-gn-stats -i data/raw/microbial/fit_gn.sqlitedb -o data/raw/microbial/fit_gn-stats.sqlitedb -O -vv -p    sql_loader(type='output') + user_function(name='mles_within_bounds',module='mdeq.model') + user_function(name='compute_stats',module='mdeq_analysis.microbial') + sql_writer(type='output',args=(PosixPath('data/raw/microbial/fit_gn-stats.sqlitedb'),), suffix='json',kwargs={'create': True, 'if_exists': 'overwrite'})\n",
       "2023-01-28 11:05:13    logs/convert_db_to_new_sqlitedb-e887e843.log                           3.10.0            gavin    /Users/gavin/opt/miniconda3/envs/c310dev/bin/mdeq db-upgrade data-old/* -od data -O                                                                                                                                                                                                                                                                                                                                                                                                               \n",
       "---------------------------------------------------------------------------------------------------------------------------------------------------------------------------------------------------------------------------------------------------------------------------------------------------------------------------------------------------------------------------------------------------------------------------------------------------------------------------------------------------------------------------------------------------------------------------------------------------------------------------\n",
       "\n",
       "2 rows x 6 columns"
      ]
     },
     "execution_count": 4,
     "metadata": {},
     "output_type": "execute_result"
    }
   ],
   "source": [
    "dstore.summary_logs"
   ]
  },
  {
   "cell_type": "code",
   "execution_count": 5,
   "metadata": {},
   "outputs": [],
   "source": [
    "loader = load_from_sqldb()\n",
    "records = [loader(m) for m in dstore.completed]\n",
    "header = records[0].header()\n",
    "rows = [r.to_record() for r in records]\n",
    "table = make_table(header=header, data=rows)"
   ]
  },
  {
   "cell_type": "markdown",
   "metadata": {},
   "source": [
    "We eliminate model with fits where the condition number was > 2. (Condition number is an indicator of numerical issues.)"
   ]
  },
  {
   "cell_type": "code",
   "execution_count": 6,
   "metadata": {},
   "outputs": [
    {
     "data": {
      "text/html": [
       "\n",
       "<div class=\"c3table\">\n",
       "\n",
       "<style>\n",
       ".c3table table {margin: 10px 0;}\n",
       ".c3table tr:last-child {border-bottom: 1px solid #000;} \n",
       ".c3table tr > th {text-align: left; padding: 0 5px;}\n",
       ".c3table tr > td {text-align: left; padding: 5px;}\n",
       ".c3table tr:nth-child(even) {background: #f7f7f7 !important;}\n",
       ".c3table .ellipsis {background: rgba(0, 0, 0, .01);}\n",
       ".c3table .index {background: rgba(161, 195, 209, 0.0); margin: 10px; font-weight: 600;}\n",
       ".c3table .head_cell {background: rgba(161, 195, 209, 0.75); font-weight: bold; text-align: center;}\n",
       ".c3table caption {color: rgb(250, 250, 250); background: rgba(30, 140, 200, 1); padding: 3px; white-space: nowrap; caption-side: top;}\n",
       ".c3table .cell_title {font-weight: bold;}\n",
       ".c3col_left { text-align: left !important; display: block;}\n",
       ".c3col_right { text-align: right !important; display: block;}\n",
       ".c3col_center { text-align: center !important; display: block;}\n",
       "</style>\n",
       "\n",
       "<table>\n",
       "\n",
       "<thead class=\"head_cell\">\n",
       "<th>source</th><th>foreground</th><th>jsd</th><th>entropy</th><th>cond_num</th>\n",
       "</thead>\n",
       "<tbody>\n",
       "<tr><td><span class=\"c3col_left\">100193_878_164800</span></td><td><span class=\"c3col_left\">878</span></td><td><span class=\"c3col_right\">0.0005</span></td><td><span class=\"c3col_right\">1.6803</span></td><td><span class=\"c3col_right\">1.9531</span></td></tr>\n",
       "<tr><td><span class=\"c3col_left\">100347_145636_156619</span></td><td><span class=\"c3col_left\">156619</span></td><td><span class=\"c3col_right\">0.0048</span></td><td><span class=\"c3col_right\">1.6972</span></td><td><span class=\"c3col_right\">1.9264</span></td></tr>\n",
       "<tr><td><span class=\"c3col_left\">100514_880_75781</span></td><td><span class=\"c3col_left\">100514</span></td><td><span class=\"c3col_right\">0.0008</span></td><td><span class=\"c3col_right\">1.8724</span></td><td><span class=\"c3col_right\">1.7404</span></td></tr>\n",
       "<tr><td><span class=\"c3col_left\">100667_334811_520123</span></td><td><span class=\"c3col_left\">334811</span></td><td><span class=\"c3col_right\">0.0011</span></td><td><span class=\"c3col_right\">1.7527</span></td><td><span class=\"c3col_right\">1.7516</span></td></tr>\n",
       "<tr><td><span class=\"c3col_left\">100984_162981_175057</span></td><td><span class=\"c3col_left\">162981</span></td><td><span class=\"c3col_right\">0.0011</span></td><td><span class=\"c3col_right\">1.8738</span></td><td><span class=\"c3col_right\">1.7910</span></td></tr>\n",
       "<tr class=\"ellipsis\"><td><span class=\"c3col_left\">...</span></td><td><span class=\"c3col_left\">...</span></td><td><span class=\"c3col_right\">...</span></td><td><span class=\"c3col_right\">...</span></td><td><span class=\"c3col_right\">...</span></td></tr>\n",
       "<tr><td><span class=\"c3col_left\">923_202620_544074</span></td><td><span class=\"c3col_left\">923</span></td><td><span class=\"c3col_right\">0.0002</span></td><td><span class=\"c3col_right\">1.7036</span></td><td><span class=\"c3col_right\">1.8173</span></td></tr>\n",
       "<tr><td><span class=\"c3col_left\">92579_740_200580</span></td><td><span class=\"c3col_left\">740</span></td><td><span class=\"c3col_right\">0.0002</span></td><td><span class=\"c3col_right\">1.8228</span></td><td><span class=\"c3col_right\">1.7152</span></td></tr>\n",
       "<tr><td><span class=\"c3col_left\">930_131798_350114</span></td><td><span class=\"c3col_left\">131798</span></td><td><span class=\"c3col_right\">0.0066</span></td><td><span class=\"c3col_right\">1.7517</span></td><td><span class=\"c3col_right\">1.9905</span></td></tr>\n",
       "<tr><td><span class=\"c3col_left\">951_350595_127600</span></td><td><span class=\"c3col_left\">127600</span></td><td><span class=\"c3col_right\">0.0030</span></td><td><span class=\"c3col_right\">1.7017</span></td><td><span class=\"c3col_right\">1.8567</span></td></tr>\n",
       "<tr><td><span class=\"c3col_left\">99167_248382_201228</span></td><td><span class=\"c3col_left\">201228</span></td><td><span class=\"c3col_right\">0.0000</span></td><td><span class=\"c3col_right\">1.9345</span></td><td><span class=\"c3col_right\">1.8786</span></td></tr>\n",
       "</tbody>\n",
       "</table>\n",
       "<p>Top 5 and bottom 5 rows from\n",
       "380 rows x 5 columns</p>\n",
       "</div>"
      ],
      "text/plain": [
       "===================================================================\n",
       "source                  foreground       jsd    entropy    cond_num\n",
       "-------------------------------------------------------------------\n",
       "100193_878_164800       878           0.0005     1.6803      1.9531\n",
       "100347_145636_156619    156619        0.0048     1.6972      1.9264\n",
       "100514_880_75781        100514        0.0008     1.8724      1.7404\n",
       "100667_334811_520123    334811        0.0011     1.7527      1.7516\n",
       "100984_162981_175057    162981        0.0011     1.8738      1.7910\n",
       "923_202620_544074       923           0.0002     1.7036      1.8173\n",
       "92579_740_200580        740           0.0002     1.8228      1.7152\n",
       "930_131798_350114       131798        0.0066     1.7517      1.9905\n",
       "951_350595_127600       127600        0.0030     1.7017      1.8567\n",
       "99167_248382_201228     201228        0.0000     1.9345      1.8786\n",
       "-------------------------------------------------------------------\n",
       "Top 5 and bottom 5 rows from\n",
       "380 rows x 5 columns"
      ]
     },
     "execution_count": 6,
     "metadata": {},
     "output_type": "execute_result"
    }
   ],
   "source": [
    "table = table.filtered(lambda x: x <= 2, columns=\"cond_num\")\n",
    "table"
   ]
  },
  {
   "cell_type": "markdown",
   "metadata": {},
   "source": [
    "We selected four alignments as our seeds, corresponding to combinations of hi/lo entropy/jsd. These are referred to as \"seed\" alignments as the fits to these alignments are used to generate synthetic data for evaluating statistical measures."
   ]
  },
  {
   "cell_type": "code",
   "execution_count": 7,
   "metadata": {},
   "outputs": [],
   "source": [
    "seed_alignments = [\n",
    "    \"197113_332182_17210\",\n",
    "    \"198257_206396_13724\",\n",
    "    \"200580_114946_573911\",\n",
    "    \"758_443154_73021\",\n",
    "]\n",
    "seeds = table.filtered(lambda x: x in seed_alignments, columns=\"source\")\n",
    "not_seeds = table.filtered(lambda x: x not in seed_alignments, columns=\"source\")"
   ]
  },
  {
   "cell_type": "markdown",
   "metadata": {},
   "source": [
    "We show the position of the selected seed alignments (red markers) with respect to the full distribution (blue markers)."
   ]
  },
  {
   "cell_type": "code",
   "execution_count": 8,
   "metadata": {},
   "outputs": [],
   "source": [
    "x_label = \"jsd\"\n",
    "y_label = \"entropy\"\n",
    "nseed_plot = {\n",
    "    \"x\": not_seeds.columns[x_label],\n",
    "    \"y\": not_seeds.columns[y_label],\n",
    "    \"mode\": \"markers\",\n",
    "    \"marker_color\": \"blue\",\n",
    "}\n",
    "seed_plot = {\n",
    "    \"x\": seeds.columns[x_label],\n",
    "    \"y\": seeds.columns[y_label],\n",
    "    \"mode\": \"markers\",\n",
    "    \"marker_size\": 10,\n",
    "    \"marker_color\": \"red\",\n",
    "}\n",
    "traces = [nseed_plot, seed_plot]\n",
    "\n",
    "fig = px.scatter()\n",
    "fig.add_traces(traces)\n",
    "\n",
    "size = 700\n",
    "_ = fig.update_layout(\n",
    "    showlegend=False,\n",
    "    xaxis=dict(title=r\"$\\widehat {\\textrm{JSD}}$\"),\n",
    "    yaxis=dict(title=r\"$\\hat H(\\pi_\\infty)$\"),\n",
    "    width=size,\n",
    "    height=size,\n",
    ")"
   ]
  },
  {
   "cell_type": "code",
   "execution_count": 9,
   "metadata": {},
   "outputs": [],
   "source": [
    "# address plotly bug, suppress MathJax warning box\n",
    "fig = full_figure_for_development(fig, warn=False)\n",
    "# fig.show()"
   ]
  },
  {
   "cell_type": "markdown",
   "metadata": {},
   "source": [
    "Write the image out for inclusion in the manuscript."
   ]
  },
  {
   "cell_type": "code",
   "execution_count": 12,
   "metadata": {},
   "outputs": [],
   "source": [
    "fig.write_image(fig_dir / \"microbial-jsd_x_entropy.pdf\")"
   ]
  },
  {
   "cell_type": "markdown",
   "metadata": {
    "collapsed": false
   },
   "source": [
    "The designations of the seed fits"
   ]
  },
  {
   "cell_type": "code",
   "execution_count": 11,
   "metadata": {
    "collapsed": false
   },
   "outputs": [],
   "source": [
    "header = [\"Identifier\", \"Entropy\", \"JSD\"]\n",
    "seeds = [\n",
    "    (r\"197113\\_332182\\_17210\", \"Hi\", \"Hi\"),\n",
    "    (r\"198257\\_206396\\_13724\", \"Hi\", \"Lo\"),\n",
    "    (r\"200580\\_114946\\_573911\", \"Lo\", \"Hi\"),\n",
    "    (r\"758\\_443154\\_73021\", \"Lo\", \"Lo\"),\n",
    "]\n",
    "\n",
    "table = make_table(\n",
    "    header=header,\n",
    "    data=seeds,\n",
    "    title=\"Selected seed fits from microbial data.\",\n",
    "    legend=\"Fits from these alignments were used for the simulation study. \"\n",
    "    \"Identifier is from the GreenGenes alignment. Entropy and JSD categories \"\n",
    "    r\"are from Figure \\ref{supfig:jsd-vs-entropy}.\"\n",
    ")\n",
    "\n",
    "table.write(table_dir / \"microbial-seed_fits.tex\", label=\"suptable:seed-categories\", justify=\"lll\")"
   ]
  }
 ],
 "metadata": {
  "interpreter": {
   "hash": "cbba2c586c8ece813a5f7aa9f6ff7744ff5b0d63355ab49e33feef8cb8cb0591"
  },
  "kernelspec": {
   "display_name": "Python 3.10.0 ('c310dev')",
   "language": "python",
   "name": "python3"
  },
  "language_info": {
   "codemirror_mode": {
    "name": "ipython",
    "version": 3
   },
   "file_extension": ".py",
   "mimetype": "text/x-python",
   "name": "python",
   "nbconvert_exporter": "python",
   "pygments_lexer": "ipython3",
   "version": "3.11.3"
  },
  "orig_nbformat": 4
 },
 "nbformat": 4,
 "nbformat_minor": 2
}
