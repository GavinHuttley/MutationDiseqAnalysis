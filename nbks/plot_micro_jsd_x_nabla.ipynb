{
 "cells": [
  {
   "cell_type": "code",
   "execution_count": 1,
   "metadata": {},
   "outputs": [],
   "source": [
    "from mdeq_analysis.plot import nabla\n",
    "from pathlib import Path\n",
    "\n",
    "OUTPUT_ROOT = Path(\"~/repos/MutationDiseqMS\").expanduser()\n",
    "fig_dir = OUTPUT_ROOT / \"figs\""
   ]
  },
  {
   "cell_type": "code",
   "execution_count": 2,
   "metadata": {},
   "outputs": [],
   "source": [
    "rootdir = Path(\"/Users/gavin/repos/Honours2021/Kath/MutationDiseqAnalysis\")\n",
    "nabla_path = (\n",
    "    rootdir / \"results/micro/convergence/toe-filtered-selected-convergence.sqlitedb\"\n",
    ")\n",
    "align_path = rootdir / \"data/micro/filtered-selected.sqlitedb\""
   ]
  },
  {
   "cell_type": "code",
   "execution_count": 3,
   "metadata": {},
   "outputs": [],
   "source": [
    "fig = nabla.fig_comparing_jsd_delta_nabla(align_path, nabla_path, 600, 600)\n",
    "# fig.show()"
   ]
  },
  {
   "cell_type": "code",
   "execution_count": 4,
   "metadata": {},
   "outputs": [],
   "source": [
    "fig.write_image(fig_dir / \"micro-jsd-delta_nabla.pdf\")"
   ]
  }
 ],
 "metadata": {
  "interpreter": {
   "hash": "cbba2c586c8ece813a5f7aa9f6ff7744ff5b0d63355ab49e33feef8cb8cb0591"
  },
  "kernelspec": {
   "display_name": "Python 3.10.0 ('c310dev')",
   "language": "python",
   "name": "python3"
  },
  "language_info": {
   "codemirror_mode": {
    "name": "ipython",
    "version": 3
   },
   "file_extension": ".py",
   "mimetype": "text/x-python",
   "name": "python",
   "nbconvert_exporter": "python",
   "pygments_lexer": "ipython3",
   "version": "3.11.3"
  },
  "orig_nbformat": 4
 },
 "nbformat": 4,
 "nbformat_minor": 2
}
