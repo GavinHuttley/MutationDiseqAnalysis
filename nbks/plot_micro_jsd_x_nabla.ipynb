{
 "cells": [
  {
   "cell_type": "code",
   "execution_count": 1,
   "metadata": {},
   "outputs": [],
   "source": [
    "from mdeq_analysis.plot import nabla\n",
    "from project_paths import RESULT_DIR, FIG_DIR, DATA_DIR, write_pdf\n",
    "\n",
    "\n",
    "nabla_path = RESULT_DIR / \"micro/convergence/toe-filtered-selected-convergence.sqlitedb\"\n",
    "align_path = DATA_DIR / \"micro/filtered-selected.sqlitedb\"\n",
    "\n",
    "fig = nabla.fig_comparing_jsd_delta_nabla(align_path, nabla_path, 600, 600)"
   ]
  },
  {
   "cell_type": "code",
   "execution_count": 2,
   "metadata": {},
   "outputs": [],
   "source": [
    "# fig.show()"
   ]
  },
  {
   "cell_type": "code",
   "execution_count": 3,
   "metadata": {},
   "outputs": [],
   "source": [
    "write_pdf(fig, FIG_DIR / \"micro-jsd-delta_nabla.pdf\")"
   ]
  }
 ],
 "metadata": {
  "kernelspec": {
   "display_name": "mdeq",
   "language": "python",
   "name": "python3"
  },
  "language_info": {
   "codemirror_mode": {
    "name": "ipython",
    "version": 3
   },
   "file_extension": ".py",
   "mimetype": "text/x-python",
   "name": "python",
   "nbconvert_exporter": "python",
   "pygments_lexer": "ipython3",
   "version": "3.11.3"
  },
  "orig_nbformat": 4
 },
 "nbformat": 4,
 "nbformat_minor": 2
}
