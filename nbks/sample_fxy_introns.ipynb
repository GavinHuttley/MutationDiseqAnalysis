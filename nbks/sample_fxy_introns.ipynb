{
 "cells": [
  {
   "cell_type": "markdown",
   "metadata": {},
   "source": [
    "# Dotplots of aligned Fxy introns\n",
    "\n",
    "Recall that FXY in *Mus musculus* (Mmus) has been translocated to straddle the pseudo-autosomal boundary and that it is conjectured that this boundary actually lies within intron 3. In particular, introns 1 and 2 are X-linked, while introns 4-9 are in the pseudo-autosomal region (PAR). To evaluate the quality of FXY intron alignments, we do dot plots between the two mouse in-group species – Mmus and *Mus spretus* (Mspre) – and the rat (Rnor). The cogent3 dotplots display exhaustive sequence matching (12/20 bases in a 20bp window are identical) and, for aligned sequences, the path identified by the alignment algorithm. Regions where there is no obvious diagonal from the sequence comparison, or the diagonal is not overlaid by the alignment path, are indicative of low quality alignments. Note that in some cases, the poor alignmment quality is due to the presence of ambiguous sequence states in Mspre.\n",
    "\n",
    "We identified the first 4000bp of the Intron 2 as the best quality alignment for an X-linked alignment segment. We further identified Introns 4-6 as high quality PAR alignments. These selected alignment regions were selected for downstream analyses."
   ]
  },
  {
   "cell_type": "code",
   "execution_count": 1,
   "metadata": {
    "collapsed": true
   },
   "outputs": [],
   "source": [
    "from cogent3 import load_aligned_seqs\n",
    "from plotly.subplots import make_subplots\n",
    "from project_paths import SUPP_FIG_DIR, DATA_DIR\n",
    "\n",
    "\n",
    "def do_dotplot(aln, name1, name2, name3, path_stem, window=20, threshold=12, k=7):\n",
    "    title = path_stem.stem.title().replace(\"_\", \" \")\n",
    "    dp1 = aln.dotplot(\n",
    "        name1=name1, name2=name2, window=window, threshold=threshold, k=k\n",
    "    )\n",
    "    dp2 = aln.dotplot(\n",
    "        name1=name1, name2=name3, window=window, threshold=threshold, k=k\n",
    "    )\n",
    "    subplot = make_subplots(rows=1, cols=2, shared_yaxes=True, horizontal_spacing=0.01)\n",
    "    f1 = dp1.plotly_figure\n",
    "    for trace in f1.data:\n",
    "        trace.showlegend = False\n",
    "        subplot.add_trace(trace, row=1, col=1)\n",
    "    f2 = dp2.plotly_figure\n",
    "    for trace in f2.data:\n",
    "        subplot.add_trace(trace, row=1, col=2)\n",
    "    subplot.update_layout(title_text=title)\n",
    "    subplot.update_yaxes(title_text=name1, row=1, col=1)\n",
    "    subplot.update_xaxes(title_text=name2, row=1, col=1)\n",
    "    subplot.update_xaxes(title_text=name3, row=1, col=2)\n",
    "    return subplot\n",
    "                          \n",
    "\n",
    "\n",
    "ROOTDIR = DATA_DIR / \"raw/fxy/introns\"\n",
    "fxy_dir = ROOTDIR / \"mmu_msp_rno-aligned\"\n",
    "selected_dir = ROOTDIR / \"selected\"\n",
    "selected_dir.mkdir(exist_ok=True)\n",
    "dims = dict(height=200, width=1000)\n",
    "paths = list(fxy_dir.glob(\"*.fa\"))\n",
    "paths = {int(p.stem.split(\"_\")[1]): p for p in paths}"
   ]
  },
  {
   "cell_type": "markdown",
   "metadata": {},
   "source": [
    "# By intron"
   ]
  },
  {
   "cell_type": "code",
   "execution_count": 2,
   "metadata": {
    "collapsed": false
   },
   "outputs": [],
   "source": [
    "for i in range(1, len(paths) + 1):\n",
    "    p = paths[i]\n",
    "    out_path = SUPP_FIG_DIR / f\"fxy-dotplot-{p.stem.replace('_', '-')}.png\"\n",
    "    aln = load_aligned_seqs(p, moltype=\"dna\")\n",
    "    dp = do_dotplot(aln, \"Mmus\", \"Mspr\", \"Rnor\", p)\n",
    "    dp.update_layout(title_y=0.98, margin=dict(l=20, r=12, t=30, b=20), **dims)\n",
    "    # double the DPI over default for better resolution\n",
    "    dp.write_image(str(out_path), scale=2)\n",
    "    # dp.show()"
   ]
  }
 ],
 "metadata": {
  "kernelspec": {
   "display_name": "mdeq",
   "language": "python",
   "name": "python3"
  },
  "language_info": {
   "codemirror_mode": {
    "name": "ipython",
    "version": 3
   },
   "file_extension": ".py",
   "mimetype": "text/x-python",
   "name": "python",
   "nbconvert_exporter": "python",
   "pygments_lexer": "ipython3",
   "version": "3.11.3"
  }
 },
 "nbformat": 4,
 "nbformat_minor": 0
}
