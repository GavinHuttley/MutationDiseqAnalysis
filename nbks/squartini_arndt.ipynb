{
 "cells": [
  {
   "cell_type": "markdown",
   "id": "b4f8f614",
   "metadata": {},
   "source": [
    "from Squartini and Arndt:\n",
    "\n",
    "We further want to quantify whether deviations from zero of the three indices are statistically significant when only a finite amount of sequence data is available to measure the present day nucleotide distribution. To achieve this we compare the distribution of nucleotides, $\\rho_\\alpha$, of a sequence of length N to the stationary distribution, $\\pi_\\alpha$, using a $\\chi^2$ test with\n",
    "\n",
    "$$ \\chi^2 = N \\sum_\\alpha  \\frac{\\rho_\\alpha - \\pi_\\alpha}{\\pi_\\alpha}$$\n",
    "\n",
    "This quantity follows a $ \\chi^2 $ distribution with 3 degrees of freedom. Deviations from stationarity are significant (with 95% confidence) if $ \\chi^2 $ > 7.8147."
   ]
  },
  {
   "cell_type": "code",
   "execution_count": null,
   "id": "d3d0ebfd",
   "metadata": {},
   "outputs": [],
   "source": [
    "import typing\n",
    "import numpy\n",
    "\n",
    "from scipy import stats\n",
    "from concurrent.futures import ProcessPoolExecutor\n",
    "\n",
    "from cogent3 import open_data_store\n",
    "\n",
    "from mdeq.bootstrap import compact_bootstrap_result\n",
    "from mdeq.stationary_pi import get_stat_pi_via_eigen\n",
    "from mdeq.utils import load_from_sqldb\n",
    "\n",
    "import project_paths\n",
    "\n",
    "\n",
    "RESULT_DIR = project_paths.RESULT_DIR"
   ]
  },
  {
   "cell_type": "code",
   "execution_count": 2,
   "id": "f2d4b09a",
   "metadata": {},
   "outputs": [],
   "source": [
    "synthetic_GSN_fits_paths = list((RESULT_DIR / \"micro/toe/fg-GSN-toe/\").glob(\"**/*.sqlitedb\"))"
   ]
  },
  {
   "cell_type": "code",
   "execution_count": null,
   "id": "b21dd10b",
   "metadata": {},
   "outputs": [],
   "source": [
    "def chi_squared(pi, pi_inf, n, motif_order) -> typing.Tuple[float, float]:\n",
    "    pi_obs = numpy.array([pi[nt] for nt in motif_order])\n",
    "    pi_exp = numpy.array(pi_inf)\n",
    "\n",
    "    chi_sum = n * numpy.sum(((pi_obs - pi_exp) ** 2) / pi_exp)\n",
    "    p = stats.chi2.sf(chi_sum, df=len(motif_order)-1)  \n",
    "\n",
    "    return chi_sum, p"
   ]
  },
  {
   "cell_type": "code",
   "execution_count": 4,
   "id": "dd3b2140",
   "metadata": {},
   "outputs": [],
   "source": [
    "def squartini_arndt_test(\n",
    "    hyp_result: compact_bootstrap_result,\n",
    ") -> typing.Tuple[str, float, float]:\n",
    "    hyp_result.deserialised_values()\n",
    "    observed_gn = hyp_result.observed[\"GN\"]\n",
    "    fg_edge = observed_gn.alignment.info[\"fg_edge\"]\n",
    "    pi = observed_gn.alignment.probs_per_seq()[fg_edge]\n",
    "    P = observed_gn.lf.get_psub_for_edge(name=fg_edge)\n",
    "    pi_inf = get_stat_pi_via_eigen(P)\n",
    "\n",
    "    chi_2, p = chi_squared(pi = pi, pi_inf=pi_inf, n=len(observed_gn.alignment), motif_order=P.keys())\n",
    "\n",
    "    return hyp_result.source, chi_2, p"
   ]
  },
  {
   "cell_type": "code",
   "execution_count": 5,
   "id": "deab10ba",
   "metadata": {},
   "outputs": [],
   "source": [
    "loader = load_from_sqldb()\n",
    "\n",
    "def process_dm(data_member):\n",
    "    dm = loader(data_member)\n",
    "    dm.deserialised_values()\n",
    "    return squartini_arndt_test(dm)\n"
   ]
  },
  {
   "cell_type": "code",
   "execution_count": null,
   "id": "3e5892f7",
   "metadata": {},
   "outputs": [],
   "source": [
    "for in_path in synthetic_GSN_fits_paths:\n",
    "    in_dstore = open_data_store(in_path)\n",
    "    rep = str(in_path).split(\"/\")[-1].split(\".\")[0]\n",
    "    out_path = RESULT_DIR / f\"micro/squartini-arndt/{rep}.tsv\"\n",
    "\n",
    "    with ProcessPoolExecutor() as ex:\n",
    "        results = list(ex.map(process_dm, in_dstore.completed))\n",
    "    \n",
    "    with open(out_path, \"w\") as out_file:\n",
    "        out_file.write('name\\tchi2\\tchisq_pval\\n')\n",
    "        out_file.writelines(f\"{name}\\t{chi_2}\\t{p}\\n\" for name, chi_2, p in results)"
   ]
  }
 ],
 "metadata": {
  "kernelspec": {
   "display_name": "venv",
   "language": "python",
   "name": "python3"
  },
  "language_info": {
   "codemirror_mode": {
    "name": "ipython",
    "version": 3
   },
   "file_extension": ".py",
   "mimetype": "text/x-python",
   "name": "python",
   "nbconvert_exporter": "python",
   "pygments_lexer": "ipython3",
   "version": "3.11.13"
  }
 },
 "nbformat": 4,
 "nbformat_minor": 5
}
