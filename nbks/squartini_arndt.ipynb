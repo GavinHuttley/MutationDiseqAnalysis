{
 "cells": [
  {
   "cell_type": "markdown",
   "id": "b4f8f614",
   "metadata": {},
   "source": [
    "from Squartini and Arndt:\n",
    "\n",
    "We further want to quantify whether deviations from zero of the three indices are statistically significant when only a finite amount of sequence data is available to measure the present day nucleotide distribution. To achieve this we compare the distribution of nucleotides, $\\rho_\\alpha$, of a sequence of length N to the stationary distribution, $\\pi_\\alpha$, using a $\\chi^2$ test with\n",
    "\n",
    "$$ \\chi^2 = N \\sum_\\alpha  \\frac{\\rho_\\alpha - \\pi_\\alpha}{\\pi_\\alpha}$$\n",
    "\n",
    "This quantity follows a $ \\chi^2 $ distribution with 3 degrees of freedom. Deviations from stationarity are significant (with 95% confidence) if $ \\chi^2 $ > 7.8147."
   ]
  },
  {
   "cell_type": "code",
   "execution_count": null,
   "id": "d3d0ebfd",
   "metadata": {},
   "outputs": [],
   "source": [
    "from mdeq.utils import load_from_sqldb\n",
    "from mdeq.stationary_pi import get_stat_pi_via_eigen\n",
    "\n",
    "from cogent3 import open_data_store\n",
    "from cogent3.core.table import Table\n",
    "import pathlib\n",
    "\n",
    "from cogent3.app import typing as c3_types\n",
    "from cogent3.app.data_store import DataStoreDirectory\n",
    "from cogent3.app.composable import define_app\n",
    "from cogent3.app.io import write_tabular\n",
    "from scipy import stats\n",
    "\n",
    "\n",
    "from mdeq.bootstrap import (\n",
    "    compact_bootstrap_result,\n",
    ")"
   ]
  },
  {
   "cell_type": "code",
   "execution_count": 2,
   "id": "f2d4b09a",
   "metadata": {},
   "outputs": [],
   "source": [
    "synthetic_GSN_fits_paths = list(pathlib.Path(\"../results/micro/toe/fg-GSN-toe/\").glob(\"**/*.sqlitedb\"))"
   ]
  },
  {
   "cell_type": "code",
   "execution_count": 3,
   "id": "b21dd10b",
   "metadata": {},
   "outputs": [],
   "source": [
    "def chi_squared(pi, pi_inf, n, motif_order):\n",
    "    chi_sum = 0 \n",
    "    for i, nt in enumerate(motif_order):\n",
    "        chi_sum += ((pi[nt] - pi_inf[i])**2)/pi_inf[i]\n",
    "    chi_sum *= n\n",
    "    \n",
    "    p = 1 - stats.chi2.cdf(chi_sum, 3)\n",
    "\n",
    "    return chi_sum, p"
   ]
  },
  {
   "cell_type": "code",
   "execution_count": 4,
   "id": "dd3b2140",
   "metadata": {},
   "outputs": [],
   "source": [
    "@define_app()\n",
    "def squartini_arndt_test(\n",
    "    hyp_result: compact_bootstrap_result,\n",
    ") -> c3_types.TabularType:\n",
    "    hyp_result.deserialised_values()\n",
    "    observed_gn = hyp_result.observed[\"GN\"]\n",
    "    fg_edge = observed_gn.alignment.info[\"fg_edge\"]\n",
    "    pi = observed_gn.lf.get_motif_probs(fg_edge)\n",
    "    P = observed_gn.lf.get_psub_for_edge(name=fg_edge)\n",
    "    pi_inf = get_stat_pi_via_eigen(P)\n",
    "\n",
    "    chi_2, p = chi_squared(pi = pi, pi_inf=pi_inf, n=len(observed_gn.alignment), motif_order=P.keys())\n",
    "\n",
    "    table = Table([\"name\", \"chi2\", \"chisq_pval\"], data=[[hyp_result.source, chi_2, p]])\n",
    "    return table"
   ]
  },
  {
   "cell_type": "code",
   "execution_count": 5,
   "id": "3e5892f7",
   "metadata": {},
   "outputs": [],
   "source": [
    "# open data stores for input and output \n",
    "for path in synthetic_GSN_fits_paths:\n",
    "    in_path = path\n",
    "    in_dstore = open_data_store(in_path)\n",
    "\n",
    "    out_path = pathlib.Path(\"../results/micro/chi2/\"+str(in_path).split(\"/\")[-1])\n",
    "    out_dstore = DataStoreDirectory(out_path, mode=\"w\", suffix=\"tsv\")\n",
    "\n",
    "    # define apps \n",
    "    loader = load_from_sqldb()\n",
    "    writer = write_tabular(out_dstore)\n",
    "    chi = squartini_arndt_test()\n",
    "\n",
    "    proc = loader + chi + writer\n",
    "\n",
    "    r = proc.apply_to(in_dstore, show_progress=True, parallel=True)"
   ]
  },
  {
   "cell_type": "code",
   "execution_count": 6,
   "id": "7e6ff386",
   "metadata": {},
   "outputs": [],
   "source": [
    "# oops it seems to have created a whole new tsv for each alignment :("
   ]
  },
  {
   "cell_type": "code",
   "execution_count": 7,
   "id": "22debfd6",
   "metadata": {},
   "outputs": [],
   "source": [
    "results_paths = list(pathlib.Path(\"../results/micro/chi2/\").glob(\"**/*.sqlitedb\"))"
   ]
  },
  {
   "cell_type": "code",
   "execution_count": 8,
   "id": "e680ef00",
   "metadata": {},
   "outputs": [],
   "source": [
    "for path in results_paths:\n",
    "    consolidated_path = \"../\"+str(path).split(\".\")[2]+\".tsv\"\n",
    "    with open(consolidated_path, \"x\") as out_file:\n",
    "        out_file.write('name\\tchi2\\tchisq_pval\\n')\n",
    "        for tsv in pathlib.Path(path).glob(\"*.tsv\"):\n",
    "            with open(tsv, 'r') as f:\n",
    "                lines = f.readlines()\n",
    "                out_file.write(lines[1]+\"\\n\") "
   ]
  }
 ],
 "metadata": {
  "kernelspec": {
   "display_name": "venv",
   "language": "python",
   "name": "python3"
  },
  "language_info": {
   "codemirror_mode": {
    "name": "ipython",
    "version": 3
   },
   "file_extension": ".py",
   "mimetype": "text/x-python",
   "name": "python",
   "nbconvert_exporter": "python",
   "pygments_lexer": "ipython3",
   "version": "3.11.13"
  }
 },
 "nbformat": 4,
 "nbformat_minor": 5
}
