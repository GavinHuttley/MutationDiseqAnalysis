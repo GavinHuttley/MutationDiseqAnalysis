{
 "cells": [
  {
   "cell_type": "markdown",
   "id": "b4f8f614",
   "metadata": {},
   "source": [
    "## From Squartini and Arndt\n",
    "\n",
    "We further want to quantify whether deviations from zero of the three indices are statistically significant when only a finite amount of sequence data is available to measure the present day nucleotide distribution. To achieve this we compare the distribution of nucleotides, $\\rho_\\alpha$, of a sequence of length N to the stationary distribution, $\\pi_\\alpha$, using a $\\chi^2$ test with\n",
    "\n",
    "$$ \\chi^2 = N \\sum_\\alpha  \\frac{\\rho_\\alpha - \\pi_\\alpha}{\\pi_\\alpha}$$\n",
    "\n",
    "This quantity follows a $ \\chi^2 $ distribution with 3 degrees of freedom. Deviations from stationarity are significant (with 95% confidence) if $ \\chi^2 $ > 7.8147.\n",
    "\n",
    "## Note\n",
    "\n",
    "We implement a variant of this test that is better suited to our null hypothesis. Specifically, only the foreground edge is evolving in a manner consistent with the null hypothesis. As a consequence, we can only apply the Squatini and Arndt test using the observed nucleotide frequencies from the sequence of the foreground edge compared to the stationary distribution for that edge."
   ]
  },
  {
   "cell_type": "code",
   "execution_count": null,
   "id": "d3d0ebfd",
   "metadata": {},
   "outputs": [],
   "source": [
    "from cogent3 import open_data_store, make_table, get_app\n",
    "import pathlib\n",
    "from cogent3.app import typing as c3_types\n",
    "from cogent3.app.composable import define_app\n",
    "from scipy import stats\n",
    "import numpy\n",
    "\n",
    "from mdeq.utils import load_from_sqldb\n",
    "from mdeq.stationary_pi import get_stat_pi_via_eigen\n",
    "import project_paths\n",
    "\n",
    "\n",
    "from mdeq.bootstrap import compact_bootstrap_result"
   ]
  },
  {
   "cell_type": "code",
   "execution_count": null,
   "id": "f2d4b09a",
   "metadata": {},
   "outputs": [],
   "source": [
    "synthetic_GSN_fits_paths = list(\n",
    "    (project_paths.RESULT_DIR / \"micro/toe/fg-GSN-toe/\").glob(\"*.sqlitedb\")\n",
    ")"
   ]
  },
  {
   "cell_type": "code",
   "execution_count": null,
   "id": "b21dd10b",
   "metadata": {},
   "outputs": [],
   "source": [
    "def chi_squared(pi, pi_inf, n, motif_order):\n",
    "    pi_obs = numpy.array([pi[nt] for nt in motif_order])\n",
    "    pi_exp = numpy.array(pi_inf)\n",
    "\n",
    "    chi_sum = n * numpy.sum(((pi_obs - pi_exp) ** 2) / pi_exp)\n",
    "    p = stats.chi2.sf(chi_sum, df=len(motif_order) - 1)\n",
    "\n",
    "    return chi_sum, p\n",
    "\n",
    "\n",
    "def squartini_arndt_test(hyp_result: compact_bootstrap_result):\n",
    "    hyp_result.deserialised_values()\n",
    "    observed_gn = hyp_result.observed[\"GN\"]\n",
    "    aln = observed_gn.alignment\n",
    "    fg_edge = aln.info[\"fg_edge\"]\n",
    "    pi = aln.probs_per_seq()[fg_edge]\n",
    "    P = observed_gn.lf.get_psub_for_edge(name=fg_edge)\n",
    "    pi_inf = get_stat_pi_via_eigen(P)\n",
    "\n",
    "    return chi_squared(\n",
    "        pi=pi, pi_inf=pi_inf, n=len(observed_gn.alignment), motif_order=P.keys()\n",
    "    )\n",
    "\n",
    "\n",
    "@define_app\n",
    "def sq_test(db_path: pathlib.PosixPath) -> c3_types.TabularType:\n",
    "    results = []\n",
    "    in_dstore = open_data_store(db_path)\n",
    "    loader = load_from_sqldb()\n",
    "    for member in in_dstore.completed:\n",
    "        result = loader(member)\n",
    "        chi, p = squartini_arndt_test(result)\n",
    "        results.append((member.unique_id, chi, p))\n",
    "\n",
    "    return make_table(\n",
    "        header=[\"name\", \"chi2\", \"chisq_pval\"], data=results, source=db_path.stem\n",
    "    )"
   ]
  },
  {
   "cell_type": "code",
   "execution_count": null,
   "id": "3e5892f7",
   "metadata": {},
   "outputs": [],
   "source": [
    "tester = sq_test()\n",
    "out_path = project_paths.RESULT_DIR / \"micro/squartini-arndt\"\n",
    "out_dstore = open_data_store(out_path, mode=\"w\", suffix=\"tsv\")\n",
    "writer = get_app(\"write_tabular\", data_store=out_dstore)\n",
    "proc = tester + writer\n",
    "_ = proc.apply_to(synthetic_GSN_fits_paths, parallel=True, show_progress=True)"
   ]
  }
 ],
 "metadata": {
  "kernelspec": {
   "display_name": "mdeq",
   "language": "python",
   "name": "python3"
  },
  "language_info": {
   "codemirror_mode": {
    "name": "ipython",
    "version": 3
   },
   "file_extension": ".py",
   "mimetype": "text/x-python",
   "name": "python",
   "nbconvert_exporter": "python",
   "pygments_lexer": "ipython3",
   "version": "3.11.13"
  }
 },
 "nbformat": 4,
 "nbformat_minor": 5
}
