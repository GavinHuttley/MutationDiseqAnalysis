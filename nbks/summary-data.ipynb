{
 "cells": [
  {
   "cell_type": "code",
   "execution_count": 1,
   "id": "initial_id",
   "metadata": {
    "collapsed": true,
    "is_executing": true
   },
   "outputs": [],
   "source": [
    "import pathlib\n",
    "from rich.progress import track\n",
    "from statistics import median\n",
    "from cogent3 import open_data_store, make_table\n",
    "from mdeq.utils import load_from_sqldb\n",
    "from project_paths import SUPP_TABLE_DIR\n",
    "loader = load_from_sqldb()\n",
    "\n",
    "\n",
    "def get_paths():\n",
    "    all_paths = list(pathlib.Path(\"../data/\").glob(\"**/*.sqlitedb\"))\n",
    "    paths = []\n",
    "    for path in all_paths:\n",
    "        if (\n",
    "            (\"filtered\" not in path.name and \"drosophila\" not in path.parts)\n",
    "            or ({\"raw\"} & set(path.parts))\n",
    "            or \"windowed\" in path.name\n",
    "        ):\n",
    "            continue\n",
    "        paths.append(path)\n",
    "    return paths\n",
    "\n",
    "\n",
    "paths = get_paths()"
   ]
  },
  {
   "cell_type": "code",
   "execution_count": null,
   "id": "f8013c3a",
   "metadata": {},
   "outputs": [],
   "source": [
    "def get_length_stats(path) -> list[int, int, int]:\n",
    "    dstore = open_data_store(path)\n",
    "    lengths = [len(loader(m)) for m in dstore.completed]\n",
    "    return [min(lengths), int(round(median(lengths), 0)), max(lengths), len(lengths)]\n",
    "\n",
    "\n",
    "def get_data_group(path):\n",
    "    if \"micro\" in path.parts:\n",
    "        group = \"Microbial\"\n",
    "    elif \"ape\" in path.parts:\n",
    "        group = \"Great Apes\"\n",
    "    elif \"drosophila\" in path.parts:\n",
    "        group = \"Drosophila\"\n",
    "    elif \"fxy\" in path.parts:\n",
    "        group = \"Rodent\"\n",
    "    else:\n",
    "        raise ValueError(path)\n",
    "    return group\n",
    "\n",
    "\n",
    "def get_data_type(path, group):\n",
    "    if group == \"Drosophila\":\n",
    "        return \"CDS\"\n",
    "    if group == \"Rodent\":\n",
    "        return \"Intron\"\n",
    "    if \"micro\" in path.parts:\n",
    "        return \"16S rRNA\"\n",
    "    if \"ape\" in path.parts:\n",
    "        return \"Intron\" if \"intron\" in path.name else \"CDS\"\n",
    "    raise ValueError(path, group)\n",
    "\n",
    "\n",
    "results = []\n",
    "for path in track(paths):\n",
    "    grp = get_data_group(path)\n",
    "    data_type = get_data_type(path, grp)\n",
    "    lengths = get_length_stats(path)\n",
    "    results.append([grp, data_type] + lengths)\n",
    "\n",
    "\n",
    "def _comma_sep(value):\n",
    "    return f\"{value:,}\"\n",
    "\n",
    "\n",
    "header = [\n",
    "    \"Data Set\",\n",
    "    \"Seq. Type\",\n",
    "    \"min(length)\",\n",
    "    \"median(length)\",\n",
    "    \"max(length)\",\n",
    "    \"Num. Alignments\",\n",
    "]\n",
    "table = make_table(\n",
    "    header=header, data=results, column_templates={c: _comma_sep for c in header[2:]}\n",
    ")"
   ]
  },
  {
   "cell_type": "code",
   "execution_count": null,
   "id": "509da65d",
   "metadata": {},
   "outputs": [],
   "source": [
    "table.title = \"Summary statistics of filtered data sets.\"\n",
    "table.legend = (\n",
    "    \"Range of alignment lengths and the total number of alignments are shown.\"\n",
    ")\n",
    "table.sorted(columns=\"Data Set\")"
   ]
  },
  {
   "cell_type": "code",
   "execution_count": 4,
   "id": "7bd346c3",
   "metadata": {},
   "outputs": [],
   "source": [
    "with open(SUPP_TABLE_DIR / \"data_set_summary.tex\", mode=\"w\") as out:\n",
    "    out.write(table.to_latex(justify=\"llrrrr\", label=\"suptable:data-summary\"))"
   ]
  }
 ],
 "metadata": {
  "kernelspec": {
   "display_name": "Python 3",
   "language": "python",
   "name": "python3"
  },
  "language_info": {
   "codemirror_mode": {
    "name": "ipython",
    "version": 3
   },
   "file_extension": ".py",
   "mimetype": "text/x-python",
   "name": "python",
   "nbconvert_exporter": "python",
   "pygments_lexer": "ipython3",
   "version": "3.11.10"
  }
 },
 "nbformat": 4,
 "nbformat_minor": 5
}
