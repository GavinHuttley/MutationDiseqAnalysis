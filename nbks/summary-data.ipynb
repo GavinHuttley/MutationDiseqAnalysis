{
 "cells": [
  {
   "cell_type": "code",
   "execution_count": 1,
   "id": "initial_id",
   "metadata": {
    "collapsed": true,
    "is_executing": true
   },
   "outputs": [],
   "source": [
    "import pathlib\n",
    "from rich.progress import track\n",
    "from statistics import median\n",
    "from cogent3 import open_data_store, make_table\n",
    "from mdeq.utils import load_from_sqldb\n",
    "\n",
    "loader = load_from_sqldb()\n",
    "\n",
    "def get_paths():\n",
    "    all_paths = list(pathlib.Path(\"../data/\").glob(\"**/*.sqlitedb\"))\n",
    "    paths = []\n",
    "    for path in all_paths:\n",
    "        if ((\"filtered\" not in path.name and \n",
    "             \"drosophila\" not in path.parts) or\n",
    "            ({\"raw\"} & set(path.parts)) or \n",
    "            \"windowed\" in path.name):\n",
    "            continue\n",
    "        paths.append(path)\n",
    "    return paths\n",
    "\n",
    "paths = get_paths()"
   ]
  },
  {
   "cell_type": "code",
   "execution_count": 3,
   "id": "f8013c3a",
   "metadata": {},
   "outputs": [
    {
     "data": {
      "application/vnd.jupyter.widget-view+json": {
       "model_id": "c4891d69faf54ba1a3b4b0fef2d2957d",
       "version_major": 2,
       "version_minor": 0
      },
      "text/plain": [
       "Output()"
      ]
     },
     "metadata": {},
     "output_type": "display_data"
    },
    {
     "data": {
      "text/html": [
       "<pre style=\"white-space:pre;overflow-x:auto;line-height:normal;font-family:Menlo,'DejaVu Sans Mono',consolas,'Courier New',monospace\"></pre>\n"
      ],
      "text/plain": []
     },
     "metadata": {},
     "output_type": "display_data"
    },
    {
     "data": {
      "text/html": [
       "<pre style=\"white-space:pre;overflow-x:auto;line-height:normal;font-family:Menlo,'DejaVu Sans Mono',consolas,'Courier New',monospace\">\n",
       "</pre>\n"
      ],
      "text/plain": [
       "\n"
      ]
     },
     "metadata": {},
     "output_type": "display_data"
    },
    {
     "data": {
      "text/html": [
       "\n",
       "<div class=\"c3table\">\n",
       "\n",
       "<style>\n",
       ".c3table table {margin: 10px 0;}\n",
       ".c3table tr:last-child {border-bottom: 1px solid #000;} \n",
       ".c3table tr > th {text-align: left; padding: 0 5px;}\n",
       ".c3table tr > td {text-align: left; padding: 5px;}\n",
       ".c3table tr:nth-child(even) {background: #f7f7f7 !important;}\n",
       ".c3table .ellipsis {background: rgba(0, 0, 0, .01);}\n",
       ".c3table .index {background: rgba(161, 195, 209, 0.0); margin: 10px; font-weight: 600;}\n",
       ".c3table .head_cell {background: rgba(161, 195, 209, 0.75); font-weight: bold; text-align: center;}\n",
       ".c3table caption {color: rgb(250, 250, 250); background: rgba(30, 140, 200, 1); padding: 3px; white-space: nowrap; caption-side: top;}\n",
       ".c3table .cell_title {font-weight: bold;}\n",
       ".c3col_left { text-align: left !important; display: block;}\n",
       ".c3col_right { text-align: right !important; display: block;}\n",
       ".c3col_center { text-align: center !important; display: block;}\n",
       "</style>\n",
       "\n",
       "<table>\n",
       "\n",
       "<thead class=\"head_cell\">\n",
       "<th>Data Set</th><th>Seq. Type</th><th>min(length)</th><th>median(length)</th><th>max(length)</th><th>Num. Alignments</th>\n",
       "</thead>\n",
       "<tbody>\n",
       "<tr><td><span class=\"c3col_left\">Microbial</span></td><td><span class=\"c3col_left\">16S rRNA</span></td><td><span class=\"c3col_right\">954</span></td><td><span class=\"c3col_right\">1,140</span></td><td><span class=\"c3col_right\">1,275</span></td><td><span class=\"c3col_right\">380</span></td></tr>\n",
       "<tr><td><span class=\"c3col_left\">Great Apes</span></td><td><span class=\"c3col_left\">Intron</span></td><td><span class=\"c3col_right\">3,038</span></td><td><span class=\"c3col_right\">13,561</span></td><td><span class=\"c3col_right\">251,535</span></td><td><span class=\"c3col_right\">613</span></td></tr>\n",
       "<tr><td><span class=\"c3col_left\">Great Apes</span></td><td><span class=\"c3col_left\">CDS</span></td><td><span class=\"c3col_right\">300</span></td><td><span class=\"c3col_right\">576</span></td><td><span class=\"c3col_right\">3,773</span></td><td><span class=\"c3col_right\">613</span></td></tr>\n",
       "<tr><td><span class=\"c3col_left\">Rodent</span></td><td><span class=\"c3col_left\">Intron</span></td><td><span class=\"c3col_right\">377</span></td><td><span class=\"c3col_right\">1,864</span></td><td><span class=\"c3col_right\">42,745</span></td><td><span class=\"c3col_right\">9</span></td></tr>\n",
       "<tr><td><span class=\"c3col_left\">Drosophila</span></td><td><span class=\"c3col_left\">CDS</span></td><td><span class=\"c3col_right\">300</span></td><td><span class=\"c3col_right\">533</span></td><td><span class=\"c3col_right\">8,892</span></td><td><span class=\"c3col_right\">5,680</span></td></tr>\n",
       "</tbody>\n",
       "</table>\n",
       "<p>\n",
       "5 rows x 6 columns</p>\n",
       "</div>"
      ],
      "text/plain": [
       "==========================================================================================\n",
       "Data Set      Seq. Type    min(length)    median(length)    max(length)    Num. Alignments\n",
       "------------------------------------------------------------------------------------------\n",
       "Microbial     16S rRNA             954             1,140          1,275                380\n",
       "Great Apes    Intron             3,038            13,561        251,535                613\n",
       "Great Apes    CDS                  300               576          3,773                613\n",
       "Rodent        Intron               377             1,864         42,745                  9\n",
       "Drosophila    CDS                  300               533          8,892              5,680\n",
       "------------------------------------------------------------------------------------------\n",
       "\n",
       "5 rows x 6 columns"
      ]
     },
     "execution_count": 3,
     "metadata": {},
     "output_type": "execute_result"
    }
   ],
   "source": [
    "def get_length_stats(path) -> list[int, int, int]:\n",
    "    dstore = open_data_store(path)\n",
    "    lengths = [len(loader(m)) for m in dstore.completed]\n",
    "    return [min(lengths), int(round(median(lengths), 0)), max(lengths), len(lengths)]\n",
    "\n",
    "def get_data_group(path):\n",
    "    if \"micro\" in path.parts:\n",
    "        group = \"Microbial\"\n",
    "    elif \"ape\" in path.parts:\n",
    "        group = \"Great Apes\"\n",
    "    elif \"drosophila\" in path.parts:\n",
    "        group = \"Drosophila\"\n",
    "    elif \"fxy\" in path.parts:\n",
    "        group = \"Rodent\"\n",
    "    else:\n",
    "        raise ValueError(path)\n",
    "    return group\n",
    "\n",
    "def get_data_type(path, group):\n",
    "    if group == \"Drosophila\":\n",
    "        return \"CDS\"\n",
    "    if group == \"Rodent\":\n",
    "        return \"Intron\"\n",
    "    if \"micro\" in path.parts:\n",
    "        return \"16S rRNA\"\n",
    "    if \"ape\" in path.parts:\n",
    "        return \"Intron\" if \"intron\" in path.name else \"CDS\"\n",
    "    raise ValueError(path, group)\n",
    "\n",
    "results = []\n",
    "for path in track(paths):\n",
    "    grp = get_data_group(path)\n",
    "    data_type = get_data_type(path, grp)\n",
    "    lengths = get_length_stats(path)\n",
    "    results.append([grp, data_type] + lengths)\n",
    "\n",
    "def _comma_sep(value):\n",
    "    return f\"{value:,}\"\n",
    "\n",
    "header = [\"Data Set\", \"Seq. Type\", \n",
    "                           \"min(length)\",\n",
    "                           \"median(length)\",\n",
    "                           \"max(length)\",\n",
    "                           \"Num. Alignments\"]\n",
    "table = make_table(header=header, \n",
    "                   data=results,\n",
    "                   column_templates={c: _comma_sep for c in header[2:]})\n",
    "    "
   ]
  },
  {
   "cell_type": "code",
   "execution_count": 5,
   "id": "509da65d",
   "metadata": {},
   "outputs": [
    {
     "data": {
      "text/html": [
       "\n",
       "<div class=\"c3table\">\n",
       "\n",
       "<style>\n",
       ".c3table table {margin: 10px 0;}\n",
       ".c3table tr:last-child {border-bottom: 1px solid #000;} \n",
       ".c3table tr > th {text-align: left; padding: 0 5px;}\n",
       ".c3table tr > td {text-align: left; padding: 5px;}\n",
       ".c3table tr:nth-child(even) {background: #f7f7f7 !important;}\n",
       ".c3table .ellipsis {background: rgba(0, 0, 0, .01);}\n",
       ".c3table .index {background: rgba(161, 195, 209, 0.0); margin: 10px; font-weight: 600;}\n",
       ".c3table .head_cell {background: rgba(161, 195, 209, 0.75); font-weight: bold; text-align: center;}\n",
       ".c3table caption {color: rgb(250, 250, 250); background: rgba(30, 140, 200, 1); padding: 3px; white-space: nowrap; caption-side: top;}\n",
       ".c3table .cell_title {font-weight: bold;}\n",
       ".c3col_left { text-align: left !important; display: block;}\n",
       ".c3col_right { text-align: right !important; display: block;}\n",
       ".c3col_center { text-align: center !important; display: block;}\n",
       "</style>\n",
       "\n",
       "<table>\n",
       "\n",
       "<caption>\n",
       "<span class=\"cell_title\">Summary statistics of filtered data sets.</span> <br><span class=\"cell_legend\">Range of alignment lengths and the total number of alignments are shown.</span></br>\n",
       "</caption>\n",
       "<thead class=\"head_cell\">\n",
       "<th>Data Set</th><th>Seq. Type</th><th>min(length)</th><th>median(length)</th><th>max(length)</th><th>Num. Alignments</th>\n",
       "</thead>\n",
       "<tbody>\n",
       "<tr><td><span class=\"c3col_left\">Drosophila</span></td><td><span class=\"c3col_left\">CDS</span></td><td><span class=\"c3col_right\">300</span></td><td><span class=\"c3col_right\">533</span></td><td><span class=\"c3col_right\">8,892</span></td><td><span class=\"c3col_right\">5,680</span></td></tr>\n",
       "<tr><td><span class=\"c3col_left\">Great Apes</span></td><td><span class=\"c3col_left\">Intron</span></td><td><span class=\"c3col_right\">3,038</span></td><td><span class=\"c3col_right\">13,561</span></td><td><span class=\"c3col_right\">251,535</span></td><td><span class=\"c3col_right\">613</span></td></tr>\n",
       "<tr><td><span class=\"c3col_left\">Great Apes</span></td><td><span class=\"c3col_left\">CDS</span></td><td><span class=\"c3col_right\">300</span></td><td><span class=\"c3col_right\">576</span></td><td><span class=\"c3col_right\">3,773</span></td><td><span class=\"c3col_right\">613</span></td></tr>\n",
       "<tr><td><span class=\"c3col_left\">Microbial</span></td><td><span class=\"c3col_left\">16S rRNA</span></td><td><span class=\"c3col_right\">954</span></td><td><span class=\"c3col_right\">1,140</span></td><td><span class=\"c3col_right\">1,275</span></td><td><span class=\"c3col_right\">380</span></td></tr>\n",
       "<tr><td><span class=\"c3col_left\">Rodent</span></td><td><span class=\"c3col_left\">Intron</span></td><td><span class=\"c3col_right\">377</span></td><td><span class=\"c3col_right\">1,864</span></td><td><span class=\"c3col_right\">42,745</span></td><td><span class=\"c3col_right\">9</span></td></tr>\n",
       "</tbody>\n",
       "</table>\n",
       "<p>\n",
       "5 rows x 6 columns</p>\n",
       "</div>"
      ],
      "text/plain": [
       "Summary statistics of filtered data sets.\n",
       "==========================================================================================\n",
       "Data Set      Seq. Type    min(length)    median(length)    max(length)    Num. Alignments\n",
       "------------------------------------------------------------------------------------------\n",
       "Drosophila    CDS                  300               533          8,892              5,680\n",
       "Great Apes    Intron             3,038            13,561        251,535                613\n",
       "Great Apes    CDS                  300               576          3,773                613\n",
       "Microbial     16S rRNA             954             1,140          1,275                380\n",
       "Rodent        Intron               377             1,864         42,745                  9\n",
       "------------------------------------------------------------------------------------------\n",
       "Range of alignment lengths and the total number of alignments are shown.\n",
       "\n",
       "5 rows x 6 columns"
      ]
     },
     "execution_count": 5,
     "metadata": {},
     "output_type": "execute_result"
    }
   ],
   "source": [
    "table.title = \"Summary statistics of filtered data sets.\"\n",
    "table.legend = \"Range of alignment lengths and the total number of alignments are shown.\"\n",
    "table.sorted(columns=\"Data Set\")"
   ]
  },
  {
   "cell_type": "code",
   "execution_count": 7,
   "id": "7bd346c3",
   "metadata": {},
   "outputs": [],
   "source": [
    "with open(\"../../MutationDiseqMS/tables_supp/data_set_summary.tex\", mode=\"w\") as out:\n",
    "    out.write(table.to_latex(justify=\"llrrrr\", label=\"suptable:data-summary\"))"
   ]
  },
  {
   "cell_type": "code",
   "execution_count": null,
   "id": "54fbaf1d",
   "metadata": {},
   "outputs": [],
   "source": []
  }
 ],
 "metadata": {
  "kernelspec": {
   "display_name": "Python 3",
   "language": "python",
   "name": "python3"
  },
  "language_info": {
   "codemirror_mode": {
    "name": "ipython",
    "version": 3
   },
   "file_extension": ".py",
   "mimetype": "text/x-python",
   "name": "python",
   "nbconvert_exporter": "python",
   "pygments_lexer": "ipython3",
   "version": "3.10.13"
  }
 },
 "nbformat": 4,
 "nbformat_minor": 5
}
