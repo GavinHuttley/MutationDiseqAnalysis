{
 "cells": [
  {
   "cell_type": "code",
   "execution_count": null,
   "metadata": {},
   "outputs": [],
   "source": [
    "import re\n",
    "from cogent3 import load_table, make_table, open_data_store\n",
    "from mdeq.utils import load_from_sqldb\n",
    "from project_paths import TABLE_DIR, DATA_DIR, RESULT_DIR\n",
    "\n",
    "_num = re.compile(r\"\\d+\")\n",
    "\n",
    "\n",
    "def get_pvalues(path):\n",
    "    table = load_table(path)\n",
    "    table.columns[\"rank\"] = [_num.findall(v)[0] for v in table.columns[\"name\"]]\n",
    "    return table[:, [\"rank\", \"bootstrap_pval\"]]\n",
    "\n",
    "\n",
    "def get_delta_nabla(path):\n",
    "    table = load_table(path)\n",
    "    table.columns[\"rank\"] = [_num.findall(v)[0] for v in table.columns[\"source\"]]\n",
    "    return table[:, [\"rank\", \"delta_nabla\", \"std\"]]\n",
    "\n",
    "\n",
    "def get_alignment_lengths(path):\n",
    "    dstore = open_data_store(path)\n",
    "    loader = load_from_sqldb()\n",
    "    rows = []\n",
    "    for m in dstore:\n",
    "        aln = loader(m)\n",
    "        mmu = aln.get_lengths()[\"mmu\"]\n",
    "        rows.append([m.unique_id, mmu])\n",
    "\n",
    "    table = make_table(header=[\"name\", \"length\"], data=rows)\n",
    "    table.columns[\"rank\"] = [_num.findall(v)[0] for v in table.columns[\"name\"]]\n",
    "    return table[:, [\"rank\", \"length\"]]\n",
    "\n",
    "\n",
    "def merged(pvals, delta_nabla, align_lengths):\n",
    "    pvals.index_name = delta_nabla.index_name = align_lengths.index_name = \"rank\"\n",
    "\n",
    "    m = pvals.inner_join(delta_nabla)\n",
    "    m = m.inner_join(align_lengths, digits=2)\n",
    "    old_cols = [c for c in m.columns if c.startswith(\"right\")]\n",
    "    new_cols = [c.replace(\"right_\", \"\") for c in old_cols]\n",
    "    m = m.with_new_header(old_cols, new_cols)\n",
    "    return m.sorted(columns=\"rank\")\n",
    "\n",
    "\n",
    "def _format_element(x):\n",
    "    return f\"{x:.2f}\" if type(x) == float else x\n",
    "\n",
    "\n",
    "def make_latex_table(table):\n",
    "    \"\"\"changes to row\"\"\"\n",
    "    table.columns[\"length\"] = [f\"{e:,}\" for e in table.columns[\"length\"]]\n",
    "    m = table.transposed(\"\", select_as_header=\"rank\", digits=2)\n",
    "    for c, col in m.columns.items():\n",
    "        m.columns[c] = [_format_element(e) for e in col]\n",
    "\n",
    "    data = m.columns.to_dict()\n",
    "    data[\"\"] = [\n",
    "        r\"$\\hat{p}$-value\",\n",
    "        r\"$\\hat\\delta_{\\nabla}$\",\n",
    "        r\"$\\hat\\sigma_\\nabla$\",\n",
    "        \"length\",\n",
    "    ]\n",
    "    return make_table(\n",
    "        data=data,\n",
    "        title=r\"The magnitude of mutation disequilibrium is higher in the region of the \\emph{Fxy} gene within the PAR.\",\n",
    "        legend=r\"TOE $\\hat{p}$-value and $\\hat\\delta_{\\nabla}$ for the first six 5'- introns of \\emph{M. musculus}. Column title is the \\emph{M. musculus} intron rank. Data is from alignments of \\emph{M. musculus}, \\emph{M. spretus}, and \\emph{R. norvegicus}. \\emph{M. musculus} was treated as the foreground branch in model fitting. $\\hat\\sigma_\\nabla$ is the estimated standard deviation of $\\nabla$ from the null distribution. The length of each \\emph{M. musculus} intron is presented.\",\n",
    "    )\n"
   ]
  },
  {
   "cell_type": "code",
   "execution_count": null,
   "metadata": {},
   "outputs": [],
   "source": [
    "aln_db_path = DATA_DIR / \"fxy\" / \"introns-aligned-filtered.sqlitedb\"\n",
    "print(aln_db_path.exists(), str(aln_db_path))\n",
    "align_lengths = get_alignment_lengths(aln_db_path)\n",
    "\n",
    "pvalues = get_pvalues(RESULT_DIR / \"fxy\"  / \"toe/toe-fxy-intron-mmu.tsv\")\n",
    "dnabla = get_delta_nabla(RESULT_DIR / \"fxy\" / \"convergence/convergence-fxy-intron-mmu.tsv\")\n",
    "joint = merged(pvalues, dnabla, align_lengths)\n",
    "joint"
   ]
  },
  {
   "cell_type": "code",
   "execution_count": null,
   "metadata": {},
   "outputs": [],
   "source": [
    "m = make_latex_table(joint)"
   ]
  },
  {
   "cell_type": "code",
   "execution_count": null,
   "metadata": {},
   "outputs": [],
   "source": [
    "latex = m.to_latex(label=\"tab:fxy\")\n",
    "outfile = TABLE_DIR / \"fxy.tex\"\n",
    "outfile.write_text(latex)"
   ]
  }
 ],
 "metadata": {
  "kernelspec": {
   "display_name": "Python 3.10.0 ('c310dev')",
   "language": "python",
   "name": "python3"
  },
  "language_info": {
   "codemirror_mode": {
    "name": "ipython",
    "version": 3
   },
   "file_extension": ".py",
   "mimetype": "text/x-python",
   "name": "python",
   "nbconvert_exporter": "python",
   "pygments_lexer": "ipython3",
   "version": "3.11.10"
  },
  "orig_nbformat": 4,
  "vscode": {
   "interpreter": {
    "hash": "cbba2c586c8ece813a5f7aa9f6ff7744ff5b0d63355ab49e33feef8cb8cb0591"
   }
  }
 },
 "nbformat": 4,
 "nbformat_minor": 2
}
